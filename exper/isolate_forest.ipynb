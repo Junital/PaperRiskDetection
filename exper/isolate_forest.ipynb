{
 "cells": [
  {
   "cell_type": "code",
   "execution_count": 1,
   "metadata": {},
   "outputs": [],
   "source": [
    "import numpy as np\n",
    "import matplotlib.pyplot as plt\n",
    "import pandas as pd\n",
    "import seaborn as sns"
   ]
  },
  {
   "cell_type": "code",
   "execution_count": 2,
   "metadata": {},
   "outputs": [],
   "source": [
    "df = pd.read_csv(\"../data/repa_data_20231109.csv\")\n",
    "\n",
    "df.columns\n",
    "\n",
    "from sklearn.preprocessing import StandardScaler\n",
    "X = df.drop(\"is_retracted\", axis=1)\n",
    "\n",
    "scaler = StandardScaler()\n",
    "X = scaler.fit_transform(X)\n",
    "\n",
    "import random\n",
    "random.seed(622)\n",
    "y = df[\"is_retracted\"]\n",
    "re_idx = y == \"Yes\"\n",
    "re_X = X[re_idx]\n",
    "re_Y = y[re_idx]\n",
    "nre_X = X[~re_idx]\n",
    "nre_Y = y[~re_idx]\n",
    "re_Y = re_Y.reset_index(drop=True)\n",
    "nre_Y = nre_Y.reset_index(drop=True)\n",
    "\n",
    "test_re_idx = random.sample(range(re_X.shape[0]), k=1000)\n",
    "test_nre_idx = random.sample(range(nre_X.shape[0]), k=1000)\n",
    "\n",
    "test_re_X = re_X[test_re_idx]\n",
    "test_re_Y = re_Y[test_re_idx]\n",
    "train_re_X = np.delete(re_X, test_re_idx, axis=0)\n",
    "train_re_Y = re_Y.drop(test_re_idx)\n",
    "test_nre_X = nre_X[test_nre_idx]\n",
    "test_nre_Y = nre_Y[test_nre_idx]\n",
    "train_nre_X = np.delete(nre_X, test_nre_idx, axis=0)\n",
    "train_nre_Y = nre_Y.drop(test_nre_idx)\n",
    "\n",
    "test_data_X = np.vstack((test_re_X, test_nre_X))\n",
    "test_data_Y = pd.concat([test_re_Y, test_nre_Y])\n",
    "train_data_X = np.vstack((train_re_X, train_nre_X))\n",
    "train_data_Y = pd.concat([train_re_Y, train_nre_Y])"
   ]
  },
  {
   "cell_type": "code",
   "execution_count": 6,
   "metadata": {},
   "outputs": [],
   "source": [
    "from sklearn.ensemble import IsolationForest\n",
    "clf = IsolationForest(random_state=42).fit(train_data_X)\n",
    "\n",
    "pval = clf.predict(test_data_X)"
   ]
  },
  {
   "cell_type": "code",
   "execution_count": 7,
   "metadata": {},
   "outputs": [
    {
     "data": {
      "text/plain": [
       "1082"
      ]
     },
     "execution_count": 7,
     "metadata": {},
     "output_type": "execute_result"
    }
   ],
   "source": [
    "test_data_Y.replace({\"Yes\": 1, \"No\": -1}, inplace=True)\n",
    "sum(test_data_Y != pval)"
   ]
  },
  {
   "cell_type": "code",
   "execution_count": 8,
   "metadata": {},
   "outputs": [
    {
     "name": "stdout",
     "output_type": "stream",
     "text": [
      "[[121 879]\n",
      " [203 797]]\n"
     ]
    }
   ],
   "source": [
    "from sklearn.metrics import confusion_matrix\n",
    "cm = confusion_matrix(test_data_Y, pval)\n",
    "print(cm)"
   ]
  },
  {
   "cell_type": "code",
   "execution_count": 19,
   "metadata": {},
   "outputs": [
    {
     "name": "stdout",
     "output_type": "stream",
     "text": [
      "[[208 792]\n",
      " [236 764]]\n"
     ]
    }
   ],
   "source": [
    "from sklearn.neighbors import LocalOutlierFactor\n",
    "clf = LocalOutlierFactor(n_neighbors=2, novelty=True)\n",
    "chosen_col = [5, 4, 6, 7]\n",
    "clf.fit(train_data_X[:, chosen_col])\n",
    "pval = clf.predict(test_data_X[:, chosen_col])\n",
    "cm = confusion_matrix(test_data_Y, pval)\n",
    "print(cm)"
   ]
  }
 ],
 "metadata": {
  "kernelspec": {
   "display_name": "Python 3",
   "language": "python",
   "name": "python3"
  },
  "language_info": {
   "codemirror_mode": {
    "name": "ipython",
    "version": 3
   },
   "file_extension": ".py",
   "mimetype": "text/x-python",
   "name": "python",
   "nbconvert_exporter": "python",
   "pygments_lexer": "ipython3",
   "version": "3.9.17"
  },
  "orig_nbformat": 4
 },
 "nbformat": 4,
 "nbformat_minor": 2
}
