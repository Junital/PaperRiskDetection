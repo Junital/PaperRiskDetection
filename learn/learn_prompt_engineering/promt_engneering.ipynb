{
 "cells": [
  {
   "cell_type": "code",
   "execution_count": 1,
   "metadata": {},
   "outputs": [],
   "source": [
    "import openai\n",
    "from dotenv import load_dotenv, find_dotenv\n",
    "import os\n",
    "\n",
    "_ = load_dotenv(find_dotenv()) # read local .env file\n",
    "\n",
    "openai.api_key  = os.getenv('OPENAI_API_KEY')\n",
    "\n",
    "def get_completion(prompt, model=\"gpt-3.5-turbo\"):\n",
    "    messages = [{\"role\": \"user\", \"content\": prompt}]\n",
    "    response = openai.ChatCompletion.create(\n",
    "        model=model,\n",
    "        messages=messages,\n",
    "        temperature=0, # this is the degree of randomness of the model's output\n",
    "    )\n",
    "    return response.choices[0].message[\"content\"]"
   ]
  },
  {
   "cell_type": "code",
   "execution_count": 2,
   "metadata": {},
   "outputs": [],
   "source": [
    "review = '''\n",
    "[' Copy pasted from https:  www.sciencedirect.com science article pii S2589537020303928 :  \\ \n",
    "This article has been retracted: please see Elsevier Policy on Article Withdrawal ( https:  \\ \n",
    "www.elsevier.com about our-business policies article-withdrawal ). Following publication of\\ \n",
    " this article, the authors shared a major disclosure that, in the view of the Editor-in-Chief, \\ \n",
    " would have unduly affected the perception and influence of the work. Specially, one author \\ \n",
    " became involved in a legal dispute with their institution leading to their resignation. Although \\ \n",
    " this dispute was unrelated to the article, all authors agreed to retract the paper because of\\ \n",
    "   the potential for reputational damage and denigration of the article. \\ \n",
    "   See also https:  retractionwatch.com 2021 05 25 antiviral-tiktok-doc-loses-paper-on-faculty-development-over-concerns-about-harassment-suit  , ']\n",
    "'''"
   ]
  },
  {
   "cell_type": "code",
   "execution_count": 3,
   "metadata": {},
   "outputs": [
    {
     "name": "stdout",
     "output_type": "stream",
     "text": [
      "1. Yes, this paper has been retracted.\n",
      "2. The problem with this paper is that one of the authors became involved in a legal dispute with their institution, leading to their resignation.\n",
      "3. The risk degree of this paper is medium, as it has been retracted due to potential reputational damage and denigration of the article.\n"
     ]
    }
   ],
   "source": [
    "prompt = f\"\"\"\n",
    "Your task is to answer the following questions about from an acedamic paper review:\n",
    "\n",
    "1. Has this paper been retracted?\n",
    "2. Is there any problem with this paper? (Limit to 30 words)\n",
    "3. The risk degree of this paper.(High, Medium or Low)\n",
    "\n",
    "review:```{review}```\n",
    "\n",
    "\"\"\"\n",
    "response = get_completion(prompt)\n",
    "print(response)"
   ]
  },
  {
   "cell_type": "code",
   "execution_count": 4,
   "metadata": {},
   "outputs": [],
   "source": [
    "review = '''\n",
    "[' Figs 2c and 5b,g.  ![file]   The turquoise rectangle marks a flow-cytometry plot with a matching panel from Figs 2C,\\ \n",
    " 4B, 5C, 6H of [Wu et al (2020)] .  ![file]   Here in context:  ![]   There may be other matches, or matches with panels\\ \n",
    " from other papers in this oeuvre. I did not search further.  https:  docs.google.com spreadsheets d 1X401JM6CcpTSkbKsP\\ \n",
    " sOl20pRKQ-ns1S_J5pTwtBjqPw edit?usp=sharing , ', ' Fig 2c again.  ![]   The panel marked with light blue matches one from\\ \n",
    " Figs 2c, 5b, 6c of [Sun et al (2020)] . The panels are not identical, but have been obtained from the same raw \\ \n",
    " data file (differently filtered and gated), so they share most of their points. I have adjusted scale and \\ \n",
    " brightness   contrast to facilitate comparison.  ![]   Here in context:  ![]  , ', ' Retracted \\ \n",
    " [1 September 2021] .  -----------------------------  Since publication, the authors have \\ \n",
    " informed us they have not been able to replicate their results presented in this article. \\ \n",
    " As this casts doubt over the results and conclusions, the authors alerted the issue to the \\ \n",
    " Editor and Publisher and all have agreed to retract the article to ensure the integrity of the \\ \n",
    " scholarly record.  We have been informed in our decision-making by our policy on publishing \\ \n",
    " ethics and integrity and the COPE guidelines on retractions.  The retracted article will \\ \n",
    " remain online to maintain the scholarly record, but it will be digitally watermarked on \\ \n",
    " each page as \\\\\\\\u2018Retracted\\\\\\\\u2019. , ', ' - *[above]* Fig 7F  from \\\\\\\\ Long noncoding \\ \n",
    " RNA VPS9D1-AS1 augments the malignant phenotype of non-small cell lung cancer by sponging \\ \n",
    " microRNA-532-3p and thereby enhancing HMGA2 expression\\\\\\\\  ([Han et al 2020] ). - *[below]* \\ \n",
    " **Fig 5d**.  ![file]  , ', ' #4 Whoops, missed a second overlap between the same Figures.  \\ \n",
    " ![file]   ---------------------------------  - *[left]* Fig 5d from \\\\\\\\ TRG-AS1 is a potent \\ \n",
    " driver of oncogenicity of tongue squamous cell carcinoma through microRNA-543 Yes-associated \\ \n",
    " protein 1 axis regulation\\\\\\\\  ([He et al 2020] ). - *[right]* **Fig 5i**.  ![file]  , ']\n",
    "'''"
   ]
  },
  {
   "cell_type": "code",
   "execution_count": 7,
   "metadata": {},
   "outputs": [
    {
     "name": "stdout",
     "output_type": "stream",
     "text": [
      "1. Yes, this paper has been retracted. The review mentions that the authors have informed the editor and publisher that they have not been able to replicate their results, and as a result, the article has been retracted.\n",
      "2. Yes, there are problems with this paper. The review mentions that there are matches between flow-cytometry plots and panels from other papers, indicating potential image duplication or manipulation.\n",
      "3. The risk degree of this paper is high. The fact that the paper has been retracted due to the inability to replicate the results raises concerns about the validity and reliability of the findings. Additionally, the presence of potential image duplication or manipulation further undermines the credibility of the paper.\n",
      "1. Yes\n",
      "2. Potential image duplication or manipulation\n",
      "3. High\n"
     ]
    }
   ],
   "source": [
    "prompt = f\"\"\"\n",
    "Your task is to answer the following questions about from an acedamic paper review:\n",
    "\n",
    "1. Has this paper been retracted?\n",
    "2. Is there any problem with this paper? \n",
    "3. The risk degree of this paper.(High, Medium or Low)\n",
    "\n",
    "review:```{review}```\n",
    "\n",
    "\"\"\"\n",
    "response = get_completion(prompt)\n",
    "print(response)\n",
    "\n",
    "summary_prompt = f\"\"\"\n",
    "Your task is to summarize the results of the comment on the paper review.\n",
    "\n",
    "1. Has this paper been retracted?(Answer with one word: \"Yes\" or \"No\")\n",
    "2. Is there any problem with this paper?(Answer should be limited to 20 words)\n",
    "3. The risk degree of this paper.(Answer with one word: \"High\", \"Medium\" or \"Low\")\n",
    "\n",
    "comment:```{response}```\n",
    "\"\"\"\n",
    "\n",
    "answer = get_completion(summary_prompt)\n",
    "print(answer)"
   ]
  },
  {
   "cell_type": "code",
   "execution_count": 8,
   "metadata": {},
   "outputs": [
    {
     "name": "stdout",
     "output_type": "stream",
     "text": [
      "2136\n"
     ]
    }
   ],
   "source": [
    "print(len(review))"
   ]
  }
 ],
 "metadata": {
  "kernelspec": {
   "display_name": "Python 3.9.17 ('repallm')",
   "language": "python",
   "name": "python3"
  },
  "language_info": {
   "codemirror_mode": {
    "name": "ipython",
    "version": 3
   },
   "file_extension": ".py",
   "mimetype": "text/x-python",
   "name": "python",
   "nbconvert_exporter": "python",
   "pygments_lexer": "ipython3",
   "version": "3.9.17"
  },
  "orig_nbformat": 4,
  "vscode": {
   "interpreter": {
    "hash": "f73f6e9c94e3395139431f6febaa6aaaeb2d78d8d813b037dcc33bb333b6baa4"
   }
  }
 },
 "nbformat": 4,
 "nbformat_minor": 2
}
