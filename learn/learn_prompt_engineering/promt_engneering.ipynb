{
 "cells": [
  {
   "cell_type": "code",
   "execution_count": 1,
   "metadata": {},
   "outputs": [],
   "source": [
    "import openai\n",
    "from dotenv import load_dotenv, find_dotenv\n",
    "import os\n",
    "\n",
    "_ = load_dotenv(find_dotenv()) # read local .env file\n",
    "\n",
    "openai.api_key  = os.getenv('OPENAI_API_KEY')\n",
    "\n",
    "def get_completion(prompt, model=\"gpt-3.5-turbo\"):\n",
    "    messages = [{\"role\": \"user\", \"content\": prompt}]\n",
    "    response = openai.ChatCompletion.create(\n",
    "        model=model,\n",
    "        messages=messages,\n",
    "        temperature=0, # this is the degree of randomness of the model's output\n",
    "    )\n",
    "    return response.choices[0].message[\"content\"]"
   ]
  },
  {
   "cell_type": "code",
   "execution_count": 2,
   "metadata": {},
   "outputs": [],
   "source": [
    "review = '''\n",
    "[' Copy pasted from https:  www.sciencedirect.com science article pii S2589537020303928 :  \\ \n",
    "This article has been retracted: please see Elsevier Policy on Article Withdrawal ( https:  \\ \n",
    "www.elsevier.com about our-business policies article-withdrawal ). Following publication of\\ \n",
    " this article, the authors shared a major disclosure that, in the view of the Editor-in-Chief, \\ \n",
    " would have unduly affected the perception and influence of the work. Specially, one author \\ \n",
    " became involved in a legal dispute with their institution leading to their resignation. Although \\ \n",
    " this dispute was unrelated to the article, all authors agreed to retract the paper because of\\ \n",
    "   the potential for reputational damage and denigration of the article. \\ \n",
    "   See also https:  retractionwatch.com 2021 05 25 antiviral-tiktok-doc-loses-paper-on-faculty-development-over-concerns-about-harassment-suit  , ']\n",
    "'''"
   ]
  },
  {
   "cell_type": "code",
   "execution_count": 4,
   "metadata": {},
   "outputs": [
    {
     "name": "stdout",
     "output_type": "stream",
     "text": [
      "1. Yes, this paper has been retracted.\n",
      "2. The problem with this paper is that one of the authors became involved in a legal dispute with their institution, leading to their resignation. Although the dispute was unrelated to the article, the authors agreed to retract the paper due to the potential for reputational damage and denigration.\n"
     ]
    }
   ],
   "source": [
    "prompt = f\"\"\"\n",
    "Your task is to answer the following questions about from an acedamic paper review:\n",
    "\n",
    "1. Has this paper been retracted?\n",
    "2. Is there any problem with this paper? (Limit to 30 words)\n",
    "\n",
    "review:```{review}```\n",
    "\n",
    "\"\"\"\n",
    "response = get_completion(prompt)\n",
    "print(response)"
   ]
  }
 ],
 "metadata": {
  "kernelspec": {
   "display_name": "Python 3.9.17 ('repallm')",
   "language": "python",
   "name": "python3"
  },
  "language_info": {
   "codemirror_mode": {
    "name": "ipython",
    "version": 3
   },
   "file_extension": ".py",
   "mimetype": "text/x-python",
   "name": "python",
   "nbconvert_exporter": "python",
   "pygments_lexer": "ipython3",
   "version": "3.9.17"
  },
  "orig_nbformat": 4,
  "vscode": {
   "interpreter": {
    "hash": "f73f6e9c94e3395139431f6febaa6aaaeb2d78d8d813b037dcc33bb333b6baa4"
   }
  }
 },
 "nbformat": 4,
 "nbformat_minor": 2
}
