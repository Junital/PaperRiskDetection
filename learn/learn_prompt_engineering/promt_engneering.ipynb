{
 "cells": [
  {
   "cell_type": "code",
   "execution_count": 2,
   "metadata": {},
   "outputs": [],
   "source": [
    "import openai\n",
    "from dotenv import load_dotenv, find_dotenv\n",
    "import os\n",
    "\n",
    "_ = load_dotenv(find_dotenv()) # read local .env file\n",
    "\n",
    "openai.api_key  = os.getenv('OPENAI_API_KEY')\n",
    "\n",
    "def get_completion(prompt, model=\"gpt-3.5-turbo\"):\n",
    "    messages = [{\"role\": \"user\", \"content\": prompt}]\n",
    "    response = openai.ChatCompletion.create(\n",
    "        model=model,\n",
    "        messages=messages,\n",
    "        temperature=0, # this is the degree of randomness of the model's output\n",
    "    )\n",
    "    return response.choices[0].message[\"content\"]"
   ]
  },
  {
   "cell_type": "code",
   "execution_count": 2,
   "metadata": {},
   "outputs": [],
   "source": [
    "review = '''\n",
    "[' Copy pasted from https:  www.sciencedirect.com science article pii S2589537020303928 :  \\ \n",
    "This article has been retracted: please see Elsevier Policy on Article Withdrawal ( https:  \\ \n",
    "www.elsevier.com about our-business policies article-withdrawal ). Following publication of\\ \n",
    " this article, the authors shared a major disclosure that, in the view of the Editor-in-Chief, \\ \n",
    " would have unduly affected the perception and influence of the work. Specially, one author \\ \n",
    " became involved in a legal dispute with their institution leading to their resignation. Although \\ \n",
    " this dispute was unrelated to the article, all authors agreed to retract the paper because of\\ \n",
    "   the potential for reputational damage and denigration of the article. \\ \n",
    "   See also https:  retractionwatch.com 2021 05 25 antiviral-tiktok-doc-loses-paper-on-faculty-development-over-concerns-about-harassment-suit  , ']\n",
    "'''"
   ]
  },
  {
   "cell_type": "code",
   "execution_count": 3,
   "metadata": {},
   "outputs": [
    {
     "name": "stdout",
     "output_type": "stream",
     "text": [
      "1. Yes, this paper has been retracted.\n",
      "2. The problem with this paper is that one of the authors became involved in a legal dispute with their institution, leading to their resignation.\n",
      "3. The risk degree of this paper is medium, as it has been retracted due to potential reputational damage and denigration of the article.\n"
     ]
    }
   ],
   "source": [
    "prompt = f\"\"\"\n",
    "Your task is to answer the following questions about from an acedamic paper review:\n",
    "\n",
    "1. Has this paper been retracted?\n",
    "2. Is there any problem with this paper? (Limit to 30 words)\n",
    "3. The risk degree of this paper.(High, Medium or Low)\n",
    "\n",
    "review:```{review}```\n",
    "\n",
    "\"\"\"\n",
    "response = get_completion(prompt)\n",
    "print(response)"
   ]
  },
  {
   "cell_type": "code",
   "execution_count": 4,
   "metadata": {},
   "outputs": [],
   "source": [
    "review = '''\n",
    "[' Figs 2c and 5b,g.  ![file]   The turquoise rectangle marks a flow-cytometry plot with a matching panel from Figs 2C,\\ \n",
    " 4B, 5C, 6H of [Wu et al (2020)] .  ![file]   Here in context:  ![]   There may be other matches, or matches with panels\\ \n",
    " from other papers in this oeuvre. I did not search further.  https:  docs.google.com spreadsheets d 1X401JM6CcpTSkbKsP\\ \n",
    " sOl20pRKQ-ns1S_J5pTwtBjqPw edit?usp=sharing , ', ' Fig 2c again.  ![]   The panel marked with light blue matches one from\\ \n",
    " Figs 2c, 5b, 6c of [Sun et al (2020)] . The panels are not identical, but have been obtained from the same raw \\ \n",
    " data file (differently filtered and gated), so they share most of their points. I have adjusted scale and \\ \n",
    " brightness   contrast to facilitate comparison.  ![]   Here in context:  ![]  , ', ' Retracted \\ \n",
    " [1 September 2021] .  -----------------------------  Since publication, the authors have \\ \n",
    " informed us they have not been able to replicate their results presented in this article. \\ \n",
    " As this casts doubt over the results and conclusions, the authors alerted the issue to the \\ \n",
    " Editor and Publisher and all have agreed to retract the article to ensure the integrity of the \\ \n",
    " scholarly record.  We have been informed in our decision-making by our policy on publishing \\ \n",
    " ethics and integrity and the COPE guidelines on retractions.  The retracted article will \\ \n",
    " remain online to maintain the scholarly record, but it will be digitally watermarked on \\ \n",
    " each page as \\\\\\\\u2018Retracted\\\\\\\\u2019. , ', ' - *[above]* Fig 7F  from \\\\\\\\ Long noncoding \\ \n",
    " RNA VPS9D1-AS1 augments the malignant phenotype of non-small cell lung cancer by sponging \\ \n",
    " microRNA-532-3p and thereby enhancing HMGA2 expression\\\\\\\\  ([Han et al 2020] ). - *[below]* \\ \n",
    " **Fig 5d**.  ![file]  , ', ' #4 Whoops, missed a second overlap between the same Figures.  \\ \n",
    " ![file]   ---------------------------------  - *[left]* Fig 5d from \\\\\\\\ TRG-AS1 is a potent \\ \n",
    " driver of oncogenicity of tongue squamous cell carcinoma through microRNA-543 Yes-associated \\ \n",
    " protein 1 axis regulation\\\\\\\\  ([He et al 2020] ). - *[right]* **Fig 5i**.  ![file]  , ']\n",
    "'''"
   ]
  },
  {
   "cell_type": "code",
   "execution_count": 7,
   "metadata": {},
   "outputs": [
    {
     "name": "stdout",
     "output_type": "stream",
     "text": [
      "1. Yes, this paper has been retracted. The review mentions that the authors have informed the editor and publisher that they have not been able to replicate their results, and as a result, the article has been retracted.\n",
      "2. Yes, there are problems with this paper. The review mentions that there are matches between flow-cytometry plots and panels from other papers, indicating potential image duplication or manipulation.\n",
      "3. The risk degree of this paper is high. The fact that the paper has been retracted due to the inability to replicate the results raises concerns about the validity and reliability of the findings. Additionally, the presence of potential image duplication or manipulation further undermines the credibility of the paper.\n",
      "1. Yes\n",
      "2. Potential image duplication or manipulation\n",
      "3. High\n"
     ]
    }
   ],
   "source": [
    "prompt = f\"\"\"\n",
    "Your task is to answer the following questions about from an acedamic paper review:\n",
    "\n",
    "1. Has this paper been retracted?\n",
    "2. Is there any problem with this paper? \n",
    "3. The risk degree of this paper.(High, Medium or Low)\n",
    "\n",
    "review:```{review}```\n",
    "\n",
    "\"\"\"\n",
    "response = get_completion(prompt)\n",
    "print(response)\n",
    "\n",
    "summary_prompt = f\"\"\"\n",
    "Your task is to summarize the results of the comment on the paper review.\n",
    "\n",
    "1. Has this paper been retracted?(Answer with one word: \"Yes\" or \"No\")\n",
    "2. Is there any problem with this paper?(Answer should be limited to 20 words)\n",
    "3. The risk degree of this paper.(Answer with one word: \"High\", \"Medium\" or \"Low\")\n",
    "\n",
    "comment:```{response}```\n",
    "\"\"\"\n",
    "\n",
    "answer = get_completion(summary_prompt)\n",
    "print(answer)"
   ]
  },
  {
   "cell_type": "code",
   "execution_count": 8,
   "metadata": {},
   "outputs": [
    {
     "name": "stdout",
     "output_type": "stream",
     "text": [
      "2136\n"
     ]
    }
   ],
   "source": [
    "print(len(review))"
   ]
  },
  {
   "cell_type": "code",
   "execution_count": 1,
   "metadata": {},
   "outputs": [],
   "source": [
    "review = '''[' This is a totally unscientific piece (I \\ \n",
    "cannot even call this a paper). A collection of \\ \n",
    "homeopathic bogus statements.   Quoting from the \\ \n",
    "article on Retraction watch: https:  \\ \n",
    "retractionwatch.com 2020 07 25 \\ \n",
    "paper-urging-use-of-homeopathy-for-covid-19-appears-in-peer-reviewed-public-health-journal   *\\\\\\\\ A couple of engineers and a dentist try to use MATHS to prove homeopathy will cure COVID-19.\\\\\\\\ * , ', ' What-Who is Curtobacterium Fangii? I will try to answer to everyone. NECESSARY CONDITIONS: Names and    Degree studies.  I do not answer to anonymous people.   In this case I will make an exception.  From this observation I see that you do not know what is defined as scientific and what it is not. You just did not understand what you read. Now we have another case of epistemological disability. Dear friend, you MUST PROVE, line to line , that this paper is not scientific.  Otherwise you are a slanderer. Did you understand? , ', ' #2  I will go through some of your text to point out concerns. From the Results and Discussion section:  \\\\\\\\u201cHomeopathy is a natural therapy method \\ \n",
    "and an experimental science.\\\\\\\\u201d *This assertion is unsupported \\ \n",
    "by any fact or citation.*  \\\\\\\\u201cIt exploits a main property of nature, that of self- similarity on a change of scale.\\\\\\\\u201d *This \\ \n",
    "assertion is unsupported by any fact or citation.*  \\\\\\\\u201cThe term self-similarity is used to show that similarity between the \\ \n",
    "disease and the substantces (sic) which under the same conditions present similar behavior must be full and lead to a mathematical \\ \n",
    "identity.\\\\\\\\u201d *This assertion is unsupported by any fact or citation.*  \\\\\\\\u201cHomeopathy, as a healing method, is based on the \\ \n",
    "Hippocratic Similia Similibus Curentur therapeutic law.\\\\\\\\u201d *This assertion is unsupported by any fact or citation.*  \\\\\\\\u201cThe physician \\ \n",
    "relies on the wholeness of symptoms revealed during the entire evolution of the infection, and prescribes an ultra-high diluted succussed solution \\ \n",
    "product which has been proven to heal similar conditions.\\\\\\\\u201d *This assertion is unsupported by any fact or citation. The language is \\ \n",
    "unclear as to what physician (a generic homeopath or MD?) is doing the \\\\\\\\u201crelying,\\\\\\\\u201d what infection is being discussed (all? \\ \n",
    "COVID-19?) and what conditions are considered similar.*  \\\\\\\\u201cThis is a great advantage in this timing (sic) while Covid-19 disease is \\ \n",
    "in rapid devemopment (sic), because the diagnosis of the indicated ultra-high diluted succussed solution product is based on individual \\ \n",
    "symptoms (if these are very characteristic) or on the totality of symptoms, and not in the pathology.\\\\\\\\u201d *This assertion is unsupported \\ \n",
    "by any fact or citation. The sentence includes typographical, spelling and or grammatical errors; for example the phasing suggests \\ \n",
    "that a \\\\\\\\u201cproduct\\\\\\\\u201d is being \\\\\\\\u201cdiagnosed\\\\\\\\u201d which doesn\\\\\\\\u2019t make sense.*  So the first two paragraphs \\ \n",
    "of the Results and Discussion section fail to meet any standard of scientific method (unsupported assertions do not belong in the \\ \n",
    "body of a scientific paper). They also include misspellings and errors that would generally be flagged by peer reviewers or editors, \\ \n",
    "suggesting a lack of rigor by all involved.   Lastly, and not to be pedantic, but \\\\\\\\u201cslander\\\\\\\\u201d is a \\\\\\\\u201cfalse \\ \n",
    "spoken statement damaging to a person s reputation.\\\\\\\\u201d The original comment was not spoken, so cannot be \\\\\\\\u201cslander.\\\\\\\\u201d \\ \n",
    "If you perhaps believe the comment to be libelous, you are mistaken. The comment clearly is a statement of opinion, which includes no \\ \n",
    "facts which can be untrue, and therefore cannot be libelous. You may disagree with the commenter\\\\\\\\u2019s views, but in this forum \\ \n",
    "it is generally better to support your scientific claims with additional facts. , ', ' #2  Dr. Kalliantas: Could you clarify your \\ \n",
    "current institutional affiliation? From your [LinkedIn profile] , it appears that you received your PhD from the Department of \\ \n",
    "Materials Science and Engineering, School of Chemical Engineering, NTUA, in Athens, Greece in 2018, but it also appears you are \\ \n",
    "no longer affiliated with that institution. I was unable to find mention of you on the university website.  Instead your profile \\ \n",
    "lists \\\\\\\\u201cDDSH International Academy of Classical Homeopathy\\\\\\\\u201d as your affiliation; although I don\\\\\\\\u2019t see this \\ \n",
    "abbreviation in use elsewhere, it appears that DDSH stands for \\\\\\\\u201cDental Dentist (sic) Surgeon Homeopath.\\\\\\\\u201d The email \\ \n",
    "provided for this paper is a personal, non-institutional, address. On your [personal website]  you describe yourself as \\ \n",
    "a \\\\\\\\u201csurgeon-dentist homeopath\\\\\\\\u201d in private practice.  I\\\\\\\\u2019m confused: In 2020, do you still have an \\ \n",
    "affiliation with NTUA?  *** ![file]  , ', ' If the name in the authorship list is D. Kalliantas, why is the Linkedin profile \\ \n",
    "showing a name with a slightly different spelling, as Kalliadas? , ', ' #1  here is my take on this paper https:  edzardernst.com \\ \n",
    "2020 07 homeopathy-combat-against-coronavirus-disease-covid-19-no-sadly-its-not-a-hoax  , ', ' In this case another epistemological \\ \n",
    "disability was born. The person did not understand NOTHING about what has read in this paper. So, has only confusion. The NECESSARY \\ \n",
    "CONDITION was not implemented, as well as also,  I have no spare in this time to do courses about complexity, systems  dynamic, \\ \n",
    "functional analysis or differential equations. , ', ' #5  Kalliantas is written but kalliadas is pronounced  Ok ? , ', ' #5  I \\ \n",
    "noted this, but found this difference was in this paper and others by this author as well:  ![file]   When I searched for the \\ \n",
    "corresponding author\\\\\\\\u2019s email address from this paper, Google found the LinkedIn profile I provided. Perhaps the person \\ \n",
    "commenting as the author here can explain why the spelling isn\\\\\\\\u2019t consistent or let us know if I made a mistake. If so, \\ \n",
    "please accept my apologies. , ', ' From the journal\\\\\\\\u2019s editor (responding to a request for comment by \\ \n",
    "[Retraction Watch] ):   \\\\\\\\u201dYou are tipping the finger in an open wound. Over the last weeks, we experienced an overflow of manuscripts, \\ \n",
    "esp. with regard to COVID-19. The paper was reviewed by two reviewers who were obviously biased. Unfortunately, our quality control \\ \n",
    "was not properly working, so the manuscript got accepted. We are now discussing with the publishers to retract this article soon. In any \\ \n",
    "case, I will write an editorial note.\\\\\\\\u201d , ', ' https:  twitter.com callin_bull status 1287507880204099586 , ', ' #8  Thank you, yes \\ \n",
    "that makes sense. , ']'''"
   ]
  },
  {
   "cell_type": "code",
   "execution_count": 3,
   "metadata": {},
   "outputs": [
    {
     "name": "stdout",
     "output_type": "stream",
     "text": [
      "[317, 93, 651, 75, 67, 90, 67, 220, 64, 112, 64, 229, 152, 13, 106, 321, 181, 12, 15, 14, 17, 403, 12, 11, 65, 56, 13, 242, 567, 55, 41, 82, 44, 144, 30, 29, 991, 168, 115, 81, 429, 123]\n"
     ]
    }
   ],
   "source": [
    "sentences = review.split(\"\\\\\\\\\")\n",
    "print([len(sentence) for sentence in sentences])"
   ]
  },
  {
   "cell_type": "code",
   "execution_count": null,
   "metadata": {},
   "outputs": [],
   "source": []
  }
 ],
 "metadata": {
  "kernelspec": {
   "display_name": "Python 3.9.17 ('repallm')",
   "language": "python",
   "name": "python3"
  },
  "language_info": {
   "codemirror_mode": {
    "name": "ipython",
    "version": 3
   },
   "file_extension": ".py",
   "mimetype": "text/x-python",
   "name": "python",
   "nbconvert_exporter": "python",
   "pygments_lexer": "ipython3",
   "version": "3.9.17"
  },
  "orig_nbformat": 4,
  "vscode": {
   "interpreter": {
    "hash": "f73f6e9c94e3395139431f6febaa6aaaeb2d78d8d813b037dcc33bb333b6baa4"
   }
  }
 },
 "nbformat": 4,
 "nbformat_minor": 2
}
