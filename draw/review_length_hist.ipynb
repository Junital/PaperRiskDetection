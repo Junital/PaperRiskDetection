{
 "cells": [
  {
   "cell_type": "code",
   "execution_count": 2,
   "metadata": {},
   "outputs": [
    {
     "data": {
      "text/html": [
       "<div>\n",
       "<style scoped>\n",
       "    .dataframe tbody tr th:only-of-type {\n",
       "        vertical-align: middle;\n",
       "    }\n",
       "\n",
       "    .dataframe tbody tr th {\n",
       "        vertical-align: top;\n",
       "    }\n",
       "\n",
       "    .dataframe thead th {\n",
       "        text-align: right;\n",
       "    }\n",
       "</style>\n",
       "<table border=\"1\" class=\"dataframe\">\n",
       "  <thead>\n",
       "    <tr style=\"text-align: right;\">\n",
       "      <th></th>\n",
       "      <th>pubpeer_id</th>\n",
       "      <th>title</th>\n",
       "      <th>comments_total</th>\n",
       "      <th>journals</th>\n",
       "      <th>published_time</th>\n",
       "      <th>author_1</th>\n",
       "      <th>author_1_id</th>\n",
       "      <th>link</th>\n",
       "      <th>affiliation</th>\n",
       "      <th>created</th>\n",
       "      <th>...</th>\n",
       "      <th>situation</th>\n",
       "      <th>rawcommentstext</th>\n",
       "      <th>comments</th>\n",
       "      <th>my_prediction_NEU</th>\n",
       "      <th>my_prediction_POS</th>\n",
       "      <th>my_prediction_NEG</th>\n",
       "      <th>total_comment</th>\n",
       "      <th>author_reply</th>\n",
       "      <th>author_active</th>\n",
       "      <th>reword</th>\n",
       "    </tr>\n",
       "  </thead>\n",
       "  <tbody>\n",
       "    <tr>\n",
       "      <th>0</th>\n",
       "      <td>002C71700B7E707DE2FE75C198BAC7</td>\n",
       "      <td>Antileukemic effect of zerumbone-loaded nanost...</td>\n",
       "      <td>2</td>\n",
       "      <td>International Journal of Nanomedicine</td>\n",
       "      <td>2015</td>\n",
       "      <td>Heshu Sulaiman Sulaiman Rahman</td>\n",
       "      <td>29926779.0</td>\n",
       "      <td>/publications/002C71700B7E707DE2FE75C198BAC7#2</td>\n",
       "      <td>Faculty of Veterinary Medicine, Universiti Put...</td>\n",
       "      <td>Fri, Mar 25, 2022 8:49 PM</td>\n",
       "      <td>...</td>\n",
       "      <td>1</td>\n",
       "      <td>[' Images in Figure 8 seem to show some repeat...</td>\n",
       "      <td>0.988941</td>\n",
       "      <td>0.641259</td>\n",
       "      <td>0.007117</td>\n",
       "      <td>0.351624</td>\n",
       "      <td>3.0</td>\n",
       "      <td>0</td>\n",
       "      <td>0.00</td>\n",
       "      <td>45.790200</td>\n",
       "    </tr>\n",
       "    <tr>\n",
       "      <th>1</th>\n",
       "      <td>003FFE17AF3EFB7D5486389615AD3E</td>\n",
       "      <td>Homeopathy combat against coronavirus disease ...</td>\n",
       "      <td>12</td>\n",
       "      <td>Zeitschrift fur Gesundheitswissenschaften = Jo...</td>\n",
       "      <td>2020</td>\n",
       "      <td>D. Kalliantas</td>\n",
       "      <td>22556612.0</td>\n",
       "      <td>/publications/003FFE17AF3EFB7D5486389615AD3E#12</td>\n",
       "      <td>Department of Materials Science and Engineerin...</td>\n",
       "      <td>Sun, Jun 7, 2020 12:11 AM</td>\n",
       "      <td>...</td>\n",
       "      <td>1</td>\n",
       "      <td>[' This is a totally unscientific piece (I can...</td>\n",
       "      <td>0.998431</td>\n",
       "      <td>0.081617</td>\n",
       "      <td>0.003545</td>\n",
       "      <td>0.914837</td>\n",
       "      <td>12.0</td>\n",
       "      <td>3</td>\n",
       "      <td>0.25</td>\n",
       "      <td>48.269174</td>\n",
       "    </tr>\n",
       "    <tr>\n",
       "      <th>2</th>\n",
       "      <td>00442961D0994CC6C186D8C1558B09</td>\n",
       "      <td>Long noncoding RNA SNHG22 increases ZEB1 expre...</td>\n",
       "      <td>2</td>\n",
       "      <td>Cell cycle (Georgetown, Tex.)</td>\n",
       "      <td>2020</td>\n",
       "      <td>Hong Gao</td>\n",
       "      <td>11188776.0</td>\n",
       "      <td>/publications/00442961D0994CC6C186D8C1558B09#2</td>\n",
       "      <td>Department of Thyroid-Head and Neck Surgery, J...</td>\n",
       "      <td>Wed, Apr 22, 2020 9:46 AM</td>\n",
       "      <td>...</td>\n",
       "      <td>1</td>\n",
       "      <td>[' Figs 2c and 5b,g.  ![file]   The turquoise ...</td>\n",
       "      <td>0.994018</td>\n",
       "      <td>0.974790</td>\n",
       "      <td>0.022007</td>\n",
       "      <td>0.003203</td>\n",
       "      <td>5.0</td>\n",
       "      <td>0</td>\n",
       "      <td>0.00</td>\n",
       "      <td>47.403562</td>\n",
       "    </tr>\n",
       "    <tr>\n",
       "      <th>3</th>\n",
       "      <td>005D80C447F09C2008B6397015BE9F</td>\n",
       "      <td>Litchi Seed Aqueous Extracts play a role in su...</td>\n",
       "      <td>2</td>\n",
       "      <td>Cell Cycle</td>\n",
       "      <td>2020</td>\n",
       "      <td>Yanling Ma</td>\n",
       "      <td>3664166.0</td>\n",
       "      <td>/publications/005D80C447F09C2008B6397015BE9F#2</td>\n",
       "      <td>Department of Oncology, Hubei No.3 People's Ho...</td>\n",
       "      <td>Wed, Feb 26, 2020 2:24 AM</td>\n",
       "      <td>...</td>\n",
       "      <td>1</td>\n",
       "      <td>[' \\\\\\\\ Figure 3. Morphology of MCF-7 cell in ...</td>\n",
       "      <td>0.995968</td>\n",
       "      <td>0.945253</td>\n",
       "      <td>0.052369</td>\n",
       "      <td>0.002378</td>\n",
       "      <td>3.0</td>\n",
       "      <td>0</td>\n",
       "      <td>0.00</td>\n",
       "      <td>53.289520</td>\n",
       "    </tr>\n",
       "    <tr>\n",
       "      <th>4</th>\n",
       "      <td>005DF8CACBC0BED0BE5FE67C32FC97</td>\n",
       "      <td>Long non-coding RNA MIAT promotes non-small ce...</td>\n",
       "      <td>2</td>\n",
       "      <td>European Review for Medical and Pharmacologica...</td>\n",
       "      <td>2019</td>\n",
       "      <td>D. Lin</td>\n",
       "      <td>25584073.0</td>\n",
       "      <td>/publications/005DF8CACBC0BED0BE5FE67C32FC97#2</td>\n",
       "      <td>Department of Thoracic Oncology, Fujian Cancer...</td>\n",
       "      <td>Mon, Jul 6, 2020 5:15 AM</td>\n",
       "      <td>...</td>\n",
       "      <td>1</td>\n",
       "      <td>[' This paper is one of a set of 121 papers th...</td>\n",
       "      <td>0.987079</td>\n",
       "      <td>0.972099</td>\n",
       "      <td>0.022557</td>\n",
       "      <td>0.005343</td>\n",
       "      <td>2.0</td>\n",
       "      <td>0</td>\n",
       "      <td>0.00</td>\n",
       "      <td>63.998941</td>\n",
       "    </tr>\n",
       "  </tbody>\n",
       "</table>\n",
       "<p>5 rows × 21 columns</p>\n",
       "</div>"
      ],
      "text/plain": [
       "                       pubpeer_id  \\\n",
       "0  002C71700B7E707DE2FE75C198BAC7   \n",
       "1  003FFE17AF3EFB7D5486389615AD3E   \n",
       "2  00442961D0994CC6C186D8C1558B09   \n",
       "3  005D80C447F09C2008B6397015BE9F   \n",
       "4  005DF8CACBC0BED0BE5FE67C32FC97   \n",
       "\n",
       "                                               title  comments_total  \\\n",
       "0  Antileukemic effect of zerumbone-loaded nanost...               2   \n",
       "1  Homeopathy combat against coronavirus disease ...              12   \n",
       "2  Long noncoding RNA SNHG22 increases ZEB1 expre...               2   \n",
       "3  Litchi Seed Aqueous Extracts play a role in su...               2   \n",
       "4  Long non-coding RNA MIAT promotes non-small ce...               2   \n",
       "\n",
       "                                            journals  published_time  \\\n",
       "0              International Journal of Nanomedicine            2015   \n",
       "1  Zeitschrift fur Gesundheitswissenschaften = Jo...            2020   \n",
       "2                      Cell cycle (Georgetown, Tex.)            2020   \n",
       "3                                         Cell Cycle            2020   \n",
       "4  European Review for Medical and Pharmacologica...            2019   \n",
       "\n",
       "                         author_1  author_1_id  \\\n",
       "0  Heshu Sulaiman Sulaiman Rahman   29926779.0   \n",
       "1                   D. Kalliantas   22556612.0   \n",
       "2                        Hong Gao   11188776.0   \n",
       "3                      Yanling Ma    3664166.0   \n",
       "4                          D. Lin   25584073.0   \n",
       "\n",
       "                                              link  \\\n",
       "0   /publications/002C71700B7E707DE2FE75C198BAC7#2   \n",
       "1  /publications/003FFE17AF3EFB7D5486389615AD3E#12   \n",
       "2   /publications/00442961D0994CC6C186D8C1558B09#2   \n",
       "3   /publications/005D80C447F09C2008B6397015BE9F#2   \n",
       "4   /publications/005DF8CACBC0BED0BE5FE67C32FC97#2   \n",
       "\n",
       "                                         affiliation  \\\n",
       "0  Faculty of Veterinary Medicine, Universiti Put...   \n",
       "1  Department of Materials Science and Engineerin...   \n",
       "2  Department of Thyroid-Head and Neck Surgery, J...   \n",
       "3  Department of Oncology, Hubei No.3 People's Ho...   \n",
       "4  Department of Thoracic Oncology, Fujian Cancer...   \n",
       "\n",
       "                     created  ... situation  \\\n",
       "0  Fri, Mar 25, 2022 8:49 PM  ...         1   \n",
       "1  Sun, Jun 7, 2020 12:11 AM  ...         1   \n",
       "2  Wed, Apr 22, 2020 9:46 AM  ...         1   \n",
       "3  Wed, Feb 26, 2020 2:24 AM  ...         1   \n",
       "4   Mon, Jul 6, 2020 5:15 AM  ...         1   \n",
       "\n",
       "                                     rawcommentstext  comments  \\\n",
       "0  [' Images in Figure 8 seem to show some repeat...  0.988941   \n",
       "1  [' This is a totally unscientific piece (I can...  0.998431   \n",
       "2  [' Figs 2c and 5b,g.  ![file]   The turquoise ...  0.994018   \n",
       "3  [' \\\\\\\\ Figure 3. Morphology of MCF-7 cell in ...  0.995968   \n",
       "4  [' This paper is one of a set of 121 papers th...  0.987079   \n",
       "\n",
       "   my_prediction_NEU  my_prediction_POS  my_prediction_NEG  total_comment  \\\n",
       "0           0.641259           0.007117           0.351624            3.0   \n",
       "1           0.081617           0.003545           0.914837           12.0   \n",
       "2           0.974790           0.022007           0.003203            5.0   \n",
       "3           0.945253           0.052369           0.002378            3.0   \n",
       "4           0.972099           0.022557           0.005343            2.0   \n",
       "\n",
       "   author_reply  author_active     reword  \n",
       "0             0           0.00  45.790200  \n",
       "1             3           0.25  48.269174  \n",
       "2             0           0.00  47.403562  \n",
       "3             0           0.00  53.289520  \n",
       "4             0           0.00  63.998941  \n",
       "\n",
       "[5 rows x 21 columns]"
      ]
     },
     "execution_count": 2,
     "metadata": {},
     "output_type": "execute_result"
    }
   ],
   "source": [
    "import pandas as pd\n",
    "\n",
    "df = pd.read_csv('../data/repa_data_20230930.csv')\n",
    "\n",
    "df.head()"
   ]
  },
  {
   "cell_type": "code",
   "execution_count": 3,
   "metadata": {},
   "outputs": [
    {
     "data": {
      "text/plain": [
       "25890"
      ]
     },
     "execution_count": 3,
     "metadata": {},
     "output_type": "execute_result"
    }
   ],
   "source": [
    "reviews = df[\"rawcommentstext\"]\n",
    "len(reviews)"
   ]
  },
  {
   "cell_type": "code",
   "execution_count": 4,
   "metadata": {},
   "outputs": [
    {
     "data": {
      "text/plain": [
       "25890"
      ]
     },
     "execution_count": 4,
     "metadata": {},
     "output_type": "execute_result"
    }
   ],
   "source": [
    "lens = [len(review) for review in reviews]\n",
    "len(lens)"
   ]
  },
  {
   "cell_type": "code",
   "execution_count": 8,
   "metadata": {},
   "outputs": [
    {
     "data": {
      "text/plain": [
       "<Axes: ylabel='Count'>"
      ]
     },
     "execution_count": 8,
     "metadata": {},
     "output_type": "execute_result"
    },
    {
     "data": {
      "image/png": "[encoded data removed]",
      "text/plain": [
       "<Figure size 640x480 with 1 Axes>"
      ]
     },
     "metadata": {},
     "output_type": "display_data"
    }
   ],
   "source": [
    "import seaborn as sns\n",
    "\n",
    "sns.set_theme()\n",
    "\n",
    "# 样本数据\n",
    "data = [1, 2, 2, 3, 3, 3, 4, 4, 5, 5, 5, 5, 6]\n",
    "data = pd.DataFrame(data)\n",
    "\n",
    "# 绘制直方图\n",
    "sns.histplot(data)  # 指定分组数和绘制核密度估计曲线"
   ]
  },
  {
   "cell_type": "code",
   "execution_count": 9,
   "metadata": {},
   "outputs": [
    {
     "data": {
      "text/plain": [
       "<Axes: ylabel='Count'>"
      ]
     },
     "execution_count": 9,
     "metadata": {},
     "output_type": "execute_result"
    },
    {
     "data": {
      "image/png": "[encoded data removed]",
      "text/plain": [
       "<Figure size 640x480 with 1 Axes>"
      ]
     },
     "metadata": {},
     "output_type": "display_data"
    }
   ],
   "source": [
    "sns.histplot(lens, legend=False)"
   ]
  },
  {
   "cell_type": "code",
   "execution_count": 15,
   "metadata": {},
   "outputs": [
    {
     "data": {
      "text/html": [
       "<div>\n",
       "<style scoped>\n",
       "    .dataframe tbody tr th:only-of-type {\n",
       "        vertical-align: middle;\n",
       "    }\n",
       "\n",
       "    .dataframe tbody tr th {\n",
       "        vertical-align: top;\n",
       "    }\n",
       "\n",
       "    .dataframe thead th {\n",
       "        text-align: right;\n",
       "    }\n",
       "</style>\n",
       "<table border=\"1\" class=\"dataframe\">\n",
       "  <thead>\n",
       "    <tr style=\"text-align: right;\">\n",
       "      <th></th>\n",
       "      <th>0</th>\n",
       "    </tr>\n",
       "  </thead>\n",
       "  <tbody>\n",
       "    <tr>\n",
       "      <th>1</th>\n",
       "      <td>6601</td>\n",
       "    </tr>\n",
       "    <tr>\n",
       "      <th>7</th>\n",
       "      <td>8333</td>\n",
       "    </tr>\n",
       "    <tr>\n",
       "      <th>11</th>\n",
       "      <td>6473</td>\n",
       "    </tr>\n",
       "    <tr>\n",
       "      <th>32</th>\n",
       "      <td>7194</td>\n",
       "    </tr>\n",
       "    <tr>\n",
       "      <th>59</th>\n",
       "      <td>11984</td>\n",
       "    </tr>\n",
       "    <tr>\n",
       "      <th>...</th>\n",
       "      <td>...</td>\n",
       "    </tr>\n",
       "    <tr>\n",
       "      <th>25796</th>\n",
       "      <td>21827</td>\n",
       "    </tr>\n",
       "    <tr>\n",
       "      <th>25801</th>\n",
       "      <td>18804</td>\n",
       "    </tr>\n",
       "    <tr>\n",
       "      <th>25849</th>\n",
       "      <td>5271</td>\n",
       "    </tr>\n",
       "    <tr>\n",
       "      <th>25876</th>\n",
       "      <td>22889</td>\n",
       "    </tr>\n",
       "    <tr>\n",
       "      <th>25880</th>\n",
       "      <td>5440</td>\n",
       "    </tr>\n",
       "  </tbody>\n",
       "</table>\n",
       "<p>1386 rows × 1 columns</p>\n",
       "</div>"
      ],
      "text/plain": [
       "           0\n",
       "1       6601\n",
       "7       8333\n",
       "11      6473\n",
       "32      7194\n",
       "59     11984\n",
       "...      ...\n",
       "25796  21827\n",
       "25801  18804\n",
       "25849   5271\n",
       "25876  22889\n",
       "25880   5440\n",
       "\n",
       "[1386 rows x 1 columns]"
      ]
     },
     "execution_count": 15,
     "metadata": {},
     "output_type": "execute_result"
    }
   ],
   "source": [
    "lens = pd.DataFrame(lens)\n",
    "\n",
    "lens[lens[0] > 5000]"
   ]
  },
  {
   "cell_type": "code",
   "execution_count": 17,
   "metadata": {},
   "outputs": [
    {
     "data": {
      "text/plain": [
       "125"
      ]
     },
     "execution_count": 17,
     "metadata": {},
     "output_type": "execute_result"
    }
   ],
   "source": [
    "len(lens[lens[0] > 16000])"
   ]
  }
 ],
 "metadata": {
  "kernelspec": {
   "display_name": "Python 3",
   "language": "python",
   "name": "python3"
  },
  "language_info": {
   "codemirror_mode": {
    "name": "ipython",
    "version": 3
   },
   "file_extension": ".py",
   "mimetype": "text/x-python",
   "name": "python",
   "nbconvert_exporter": "python",
   "pygments_lexer": "ipython3",
   "version": "3.9.17"
  },
  "orig_nbformat": 4
 },
 "nbformat": 4,
 "nbformat_minor": 2
}
