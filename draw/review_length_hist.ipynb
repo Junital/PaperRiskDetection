{
 "cells": [
  {
   "cell_type": "code",
   "execution_count": 1,
   "metadata": {},
   "outputs": [
    {
     "data": {
      "text/html": [
       "<div>\n",
       "<style scoped>\n",
       "    .dataframe tbody tr th:only-of-type {\n",
       "        vertical-align: middle;\n",
       "    }\n",
       "\n",
       "    .dataframe tbody tr th {\n",
       "        vertical-align: top;\n",
       "    }\n",
       "\n",
       "    .dataframe thead th {\n",
       "        text-align: right;\n",
       "    }\n",
       "</style>\n",
       "<table border=\"1\" class=\"dataframe\">\n",
       "  <thead>\n",
       "    <tr style=\"text-align: right;\">\n",
       "      <th></th>\n",
       "      <th>pubpeer_id</th>\n",
       "      <th>title</th>\n",
       "      <th>comments_total</th>\n",
       "      <th>journals</th>\n",
       "      <th>published_time</th>\n",
       "      <th>author_1</th>\n",
       "      <th>author_1_id</th>\n",
       "      <th>link</th>\n",
       "      <th>affiliation</th>\n",
       "      <th>created</th>\n",
       "      <th>...</th>\n",
       "      <th>situation</th>\n",
       "      <th>rawcommentstext</th>\n",
       "      <th>comments</th>\n",
       "      <th>my_prediction_NEU</th>\n",
       "      <th>my_prediction_POS</th>\n",
       "      <th>my_prediction_NEG</th>\n",
       "      <th>total_comment</th>\n",
       "      <th>author_reply</th>\n",
       "      <th>author_active</th>\n",
       "      <th>reword</th>\n",
       "    </tr>\n",
       "  </thead>\n",
       "  <tbody>\n",
       "    <tr>\n",
       "      <th>0</th>\n",
       "      <td>002C71700B7E707DE2FE75C198BAC7</td>\n",
       "      <td>Antileukemic effect of zerumbone-loaded nanost...</td>\n",
       "      <td>2</td>\n",
       "      <td>International Journal of Nanomedicine</td>\n",
       "      <td>2015</td>\n",
       "      <td>Heshu Sulaiman Sulaiman Rahman</td>\n",
       "      <td>29926779.0</td>\n",
       "      <td>/publications/002C71700B7E707DE2FE75C198BAC7#2</td>\n",
       "      <td>Faculty of Veterinary Medicine, Universiti Put...</td>\n",
       "      <td>Fri, Mar 25, 2022 8:49 PM</td>\n",
       "      <td>...</td>\n",
       "      <td>1</td>\n",
       "      <td>[' Images in Figure 8 seem to show some repeat...</td>\n",
       "      <td>0.988941</td>\n",
       "      <td>0.641259</td>\n",
       "      <td>0.007117</td>\n",
       "      <td>0.351624</td>\n",
       "      <td>3.0</td>\n",
       "      <td>0</td>\n",
       "      <td>0.00</td>\n",
       "      <td>45.790200</td>\n",
       "    </tr>\n",
       "    <tr>\n",
       "      <th>1</th>\n",
       "      <td>003FFE17AF3EFB7D5486389615AD3E</td>\n",
       "      <td>Homeopathy combat against coronavirus disease ...</td>\n",
       "      <td>12</td>\n",
       "      <td>Zeitschrift fur Gesundheitswissenschaften = Jo...</td>\n",
       "      <td>2020</td>\n",
       "      <td>D. Kalliantas</td>\n",
       "      <td>22556612.0</td>\n",
       "      <td>/publications/003FFE17AF3EFB7D5486389615AD3E#12</td>\n",
       "      <td>Department of Materials Science and Engineerin...</td>\n",
       "      <td>Sun, Jun 7, 2020 12:11 AM</td>\n",
       "      <td>...</td>\n",
       "      <td>1</td>\n",
       "      <td>[' This is a totally unscientific piece (I can...</td>\n",
       "      <td>0.998431</td>\n",
       "      <td>0.081617</td>\n",
       "      <td>0.003545</td>\n",
       "      <td>0.914837</td>\n",
       "      <td>12.0</td>\n",
       "      <td>3</td>\n",
       "      <td>0.25</td>\n",
       "      <td>48.269174</td>\n",
       "    </tr>\n",
       "    <tr>\n",
       "      <th>2</th>\n",
       "      <td>00442961D0994CC6C186D8C1558B09</td>\n",
       "      <td>Long noncoding RNA SNHG22 increases ZEB1 expre...</td>\n",
       "      <td>2</td>\n",
       "      <td>Cell cycle (Georgetown, Tex.)</td>\n",
       "      <td>2020</td>\n",
       "      <td>Hong Gao</td>\n",
       "      <td>11188776.0</td>\n",
       "      <td>/publications/00442961D0994CC6C186D8C1558B09#2</td>\n",
       "      <td>Department of Thyroid-Head and Neck Surgery, J...</td>\n",
       "      <td>Wed, Apr 22, 2020 9:46 AM</td>\n",
       "      <td>...</td>\n",
       "      <td>1</td>\n",
       "      <td>[' Figs 2c and 5b,g.  ![file]   The turquoise ...</td>\n",
       "      <td>0.994018</td>\n",
       "      <td>0.974790</td>\n",
       "      <td>0.022007</td>\n",
       "      <td>0.003203</td>\n",
       "      <td>5.0</td>\n",
       "      <td>0</td>\n",
       "      <td>0.00</td>\n",
       "      <td>47.403562</td>\n",
       "    </tr>\n",
       "    <tr>\n",
       "      <th>3</th>\n",
       "      <td>005D80C447F09C2008B6397015BE9F</td>\n",
       "      <td>Litchi Seed Aqueous Extracts play a role in su...</td>\n",
       "      <td>2</td>\n",
       "      <td>Cell Cycle</td>\n",
       "      <td>2020</td>\n",
       "      <td>Yanling Ma</td>\n",
       "      <td>3664166.0</td>\n",
       "      <td>/publications/005D80C447F09C2008B6397015BE9F#2</td>\n",
       "      <td>Department of Oncology, Hubei No.3 People's Ho...</td>\n",
       "      <td>Wed, Feb 26, 2020 2:24 AM</td>\n",
       "      <td>...</td>\n",
       "      <td>1</td>\n",
       "      <td>[' \\\\\\\\ Figure 3. Morphology of MCF-7 cell in ...</td>\n",
       "      <td>0.995968</td>\n",
       "      <td>0.945253</td>\n",
       "      <td>0.052369</td>\n",
       "      <td>0.002378</td>\n",
       "      <td>3.0</td>\n",
       "      <td>0</td>\n",
       "      <td>0.00</td>\n",
       "      <td>53.289520</td>\n",
       "    </tr>\n",
       "    <tr>\n",
       "      <th>4</th>\n",
       "      <td>005DF8CACBC0BED0BE5FE67C32FC97</td>\n",
       "      <td>Long non-coding RNA MIAT promotes non-small ce...</td>\n",
       "      <td>2</td>\n",
       "      <td>European Review for Medical and Pharmacologica...</td>\n",
       "      <td>2019</td>\n",
       "      <td>D. Lin</td>\n",
       "      <td>25584073.0</td>\n",
       "      <td>/publications/005DF8CACBC0BED0BE5FE67C32FC97#2</td>\n",
       "      <td>Department of Thoracic Oncology, Fujian Cancer...</td>\n",
       "      <td>Mon, Jul 6, 2020 5:15 AM</td>\n",
       "      <td>...</td>\n",
       "      <td>1</td>\n",
       "      <td>[' This paper is one of a set of 121 papers th...</td>\n",
       "      <td>0.987079</td>\n",
       "      <td>0.972099</td>\n",
       "      <td>0.022557</td>\n",
       "      <td>0.005343</td>\n",
       "      <td>2.0</td>\n",
       "      <td>0</td>\n",
       "      <td>0.00</td>\n",
       "      <td>63.998941</td>\n",
       "    </tr>\n",
       "  </tbody>\n",
       "</table>\n",
       "<p>5 rows × 21 columns</p>\n",
       "</div>"
      ],
      "text/plain": [
       "                       pubpeer_id  \\\n",
       "0  002C71700B7E707DE2FE75C198BAC7   \n",
       "1  003FFE17AF3EFB7D5486389615AD3E   \n",
       "2  00442961D0994CC6C186D8C1558B09   \n",
       "3  005D80C447F09C2008B6397015BE9F   \n",
       "4  005DF8CACBC0BED0BE5FE67C32FC97   \n",
       "\n",
       "                                               title  comments_total  \\\n",
       "0  Antileukemic effect of zerumbone-loaded nanost...               2   \n",
       "1  Homeopathy combat against coronavirus disease ...              12   \n",
       "2  Long noncoding RNA SNHG22 increases ZEB1 expre...               2   \n",
       "3  Litchi Seed Aqueous Extracts play a role in su...               2   \n",
       "4  Long non-coding RNA MIAT promotes non-small ce...               2   \n",
       "\n",
       "                                            journals  published_time  \\\n",
       "0              International Journal of Nanomedicine            2015   \n",
       "1  Zeitschrift fur Gesundheitswissenschaften = Jo...            2020   \n",
       "2                      Cell cycle (Georgetown, Tex.)            2020   \n",
       "3                                         Cell Cycle            2020   \n",
       "4  European Review for Medical and Pharmacologica...            2019   \n",
       "\n",
       "                         author_1  author_1_id  \\\n",
       "0  Heshu Sulaiman Sulaiman Rahman   29926779.0   \n",
       "1                   D. Kalliantas   22556612.0   \n",
       "2                        Hong Gao   11188776.0   \n",
       "3                      Yanling Ma    3664166.0   \n",
       "4                          D. Lin   25584073.0   \n",
       "\n",
       "                                              link  \\\n",
       "0   /publications/002C71700B7E707DE2FE75C198BAC7#2   \n",
       "1  /publications/003FFE17AF3EFB7D5486389615AD3E#12   \n",
       "2   /publications/00442961D0994CC6C186D8C1558B09#2   \n",
       "3   /publications/005D80C447F09C2008B6397015BE9F#2   \n",
       "4   /publications/005DF8CACBC0BED0BE5FE67C32FC97#2   \n",
       "\n",
       "                                         affiliation  \\\n",
       "0  Faculty of Veterinary Medicine, Universiti Put...   \n",
       "1  Department of Materials Science and Engineerin...   \n",
       "2  Department of Thyroid-Head and Neck Surgery, J...   \n",
       "3  Department of Oncology, Hubei No.3 People's Ho...   \n",
       "4  Department of Thoracic Oncology, Fujian Cancer...   \n",
       "\n",
       "                     created  ... situation  \\\n",
       "0  Fri, Mar 25, 2022 8:49 PM  ...         1   \n",
       "1  Sun, Jun 7, 2020 12:11 AM  ...         1   \n",
       "2  Wed, Apr 22, 2020 9:46 AM  ...         1   \n",
       "3  Wed, Feb 26, 2020 2:24 AM  ...         1   \n",
       "4   Mon, Jul 6, 2020 5:15 AM  ...         1   \n",
       "\n",
       "                                     rawcommentstext  comments  \\\n",
       "0  [' Images in Figure 8 seem to show some repeat...  0.988941   \n",
       "1  [' This is a totally unscientific piece (I can...  0.998431   \n",
       "2  [' Figs 2c and 5b,g.  ![file]   The turquoise ...  0.994018   \n",
       "3  [' \\\\\\\\ Figure 3. Morphology of MCF-7 cell in ...  0.995968   \n",
       "4  [' This paper is one of a set of 121 papers th...  0.987079   \n",
       "\n",
       "   my_prediction_NEU  my_prediction_POS  my_prediction_NEG  total_comment  \\\n",
       "0           0.641259           0.007117           0.351624            3.0   \n",
       "1           0.081617           0.003545           0.914837           12.0   \n",
       "2           0.974790           0.022007           0.003203            5.0   \n",
       "3           0.945253           0.052369           0.002378            3.0   \n",
       "4           0.972099           0.022557           0.005343            2.0   \n",
       "\n",
       "   author_reply  author_active     reword  \n",
       "0             0           0.00  45.790200  \n",
       "1             3           0.25  48.269174  \n",
       "2             0           0.00  47.403562  \n",
       "3             0           0.00  53.289520  \n",
       "4             0           0.00  63.998941  \n",
       "\n",
       "[5 rows x 21 columns]"
      ]
     },
     "execution_count": 1,
     "metadata": {},
     "output_type": "execute_result"
    }
   ],
   "source": [
    "import pandas as pd\n",
    "\n",
    "df = pd.read_csv('../data/repa_data_20230930.csv')\n",
    "\n",
    "df.head()"
   ]
  },
  {
   "cell_type": "code",
   "execution_count": 2,
   "metadata": {},
   "outputs": [
    {
     "data": {
      "text/plain": [
       "25890"
      ]
     },
     "execution_count": 2,
     "metadata": {},
     "output_type": "execute_result"
    }
   ],
   "source": [
    "reviews = df[\"rawcommentstext\"]\n",
    "len(reviews)"
   ]
  },
  {
   "cell_type": "code",
   "execution_count": 3,
   "metadata": {},
   "outputs": [
    {
     "data": {
      "text/plain": [
       "25890"
      ]
     },
     "execution_count": 3,
     "metadata": {},
     "output_type": "execute_result"
    }
   ],
   "source": [
    "lens = [len(review) for review in reviews]\n",
    "len(lens)"
   ]
  },
  {
   "cell_type": "code",
   "execution_count": 8,
   "metadata": {},
   "outputs": [
    {
     "data": {
      "text/plain": [
       "<Axes: ylabel='Count'>"
      ]
     },
     "execution_count": 8,
     "metadata": {},
     "output_type": "execute_result"
    },
    {
     "data": {
      "image/png": "[encoded data removed]",
      "text/plain": [
       "<Figure size 640x480 with 1 Axes>"
      ]
     },
     "metadata": {},
     "output_type": "display_data"
    }
   ],
   "source": [
    "import seaborn as sns\n",
    "\n",
    "sns.set_theme()\n",
    "\n",
    "# 样本数据\n",
    "data = [1, 2, 2, 3, 3, 3, 4, 4, 5, 5, 5, 5, 6]\n",
    "data = pd.DataFrame(data)\n",
    "\n",
    "# 绘制直方图\n",
    "sns.histplot(data)  # 指定分组数和绘制核密度估计曲线"
   ]
  },
  {
   "cell_type": "code",
   "execution_count": 9,
   "metadata": {},
   "outputs": [
    {
     "data": {
      "text/plain": [
       "<Axes: ylabel='Count'>"
      ]
     },
     "execution_count": 9,
     "metadata": {},
     "output_type": "execute_result"
    },
    {
     "data": {
      "image/png": "[encoded data removed]",
      "text/plain": [
       "<Figure size 640x480 with 1 Axes>"
      ]
     },
     "metadata": {},
     "output_type": "display_data"
    }
   ],
   "source": [
    "sns.histplot(lens, legend=False)"
   ]
  },
  {
   "cell_type": "code",
   "execution_count": 4,
   "metadata": {},
   "outputs": [
    {
     "data": {
      "text/html": [
       "<div>\n",
       "<style scoped>\n",
       "    .dataframe tbody tr th:only-of-type {\n",
       "        vertical-align: middle;\n",
       "    }\n",
       "\n",
       "    .dataframe tbody tr th {\n",
       "        vertical-align: top;\n",
       "    }\n",
       "\n",
       "    .dataframe thead th {\n",
       "        text-align: right;\n",
       "    }\n",
       "</style>\n",
       "<table border=\"1\" class=\"dataframe\">\n",
       "  <thead>\n",
       "    <tr style=\"text-align: right;\">\n",
       "      <th></th>\n",
       "      <th>0</th>\n",
       "    </tr>\n",
       "  </thead>\n",
       "  <tbody>\n",
       "    <tr>\n",
       "      <th>1</th>\n",
       "      <td>6601</td>\n",
       "    </tr>\n",
       "    <tr>\n",
       "      <th>7</th>\n",
       "      <td>8333</td>\n",
       "    </tr>\n",
       "    <tr>\n",
       "      <th>11</th>\n",
       "      <td>6473</td>\n",
       "    </tr>\n",
       "    <tr>\n",
       "      <th>32</th>\n",
       "      <td>7194</td>\n",
       "    </tr>\n",
       "    <tr>\n",
       "      <th>59</th>\n",
       "      <td>11984</td>\n",
       "    </tr>\n",
       "    <tr>\n",
       "      <th>...</th>\n",
       "      <td>...</td>\n",
       "    </tr>\n",
       "    <tr>\n",
       "      <th>25796</th>\n",
       "      <td>21827</td>\n",
       "    </tr>\n",
       "    <tr>\n",
       "      <th>25801</th>\n",
       "      <td>18804</td>\n",
       "    </tr>\n",
       "    <tr>\n",
       "      <th>25849</th>\n",
       "      <td>5271</td>\n",
       "    </tr>\n",
       "    <tr>\n",
       "      <th>25876</th>\n",
       "      <td>22889</td>\n",
       "    </tr>\n",
       "    <tr>\n",
       "      <th>25880</th>\n",
       "      <td>5440</td>\n",
       "    </tr>\n",
       "  </tbody>\n",
       "</table>\n",
       "<p>1386 rows × 1 columns</p>\n",
       "</div>"
      ],
      "text/plain": [
       "           0\n",
       "1       6601\n",
       "7       8333\n",
       "11      6473\n",
       "32      7194\n",
       "59     11984\n",
       "...      ...\n",
       "25796  21827\n",
       "25801  18804\n",
       "25849   5271\n",
       "25876  22889\n",
       "25880   5440\n",
       "\n",
       "[1386 rows x 1 columns]"
      ]
     },
     "execution_count": 4,
     "metadata": {},
     "output_type": "execute_result"
    }
   ],
   "source": [
    "lens = pd.DataFrame(lens)\n",
    "\n",
    "lens[lens[0] > 5000]"
   ]
  },
  {
   "cell_type": "code",
   "execution_count": 5,
   "metadata": {},
   "outputs": [
    {
     "data": {
      "text/html": [
       "<div>\n",
       "<style scoped>\n",
       "    .dataframe tbody tr th:only-of-type {\n",
       "        vertical-align: middle;\n",
       "    }\n",
       "\n",
       "    .dataframe tbody tr th {\n",
       "        vertical-align: top;\n",
       "    }\n",
       "\n",
       "    .dataframe thead th {\n",
       "        text-align: right;\n",
       "    }\n",
       "</style>\n",
       "<table border=\"1\" class=\"dataframe\">\n",
       "  <thead>\n",
       "    <tr style=\"text-align: right;\">\n",
       "      <th></th>\n",
       "      <th>0</th>\n",
       "    </tr>\n",
       "  </thead>\n",
       "  <tbody>\n",
       "    <tr>\n",
       "      <th>378</th>\n",
       "      <td>17245</td>\n",
       "    </tr>\n",
       "    <tr>\n",
       "      <th>484</th>\n",
       "      <td>32767</td>\n",
       "    </tr>\n",
       "    <tr>\n",
       "      <th>528</th>\n",
       "      <td>32767</td>\n",
       "    </tr>\n",
       "    <tr>\n",
       "      <th>651</th>\n",
       "      <td>17918</td>\n",
       "    </tr>\n",
       "    <tr>\n",
       "      <th>827</th>\n",
       "      <td>19103</td>\n",
       "    </tr>\n",
       "    <tr>\n",
       "      <th>...</th>\n",
       "      <td>...</td>\n",
       "    </tr>\n",
       "    <tr>\n",
       "      <th>25426</th>\n",
       "      <td>21827</td>\n",
       "    </tr>\n",
       "    <tr>\n",
       "      <th>25431</th>\n",
       "      <td>18804</td>\n",
       "    </tr>\n",
       "    <tr>\n",
       "      <th>25796</th>\n",
       "      <td>21827</td>\n",
       "    </tr>\n",
       "    <tr>\n",
       "      <th>25801</th>\n",
       "      <td>18804</td>\n",
       "    </tr>\n",
       "    <tr>\n",
       "      <th>25876</th>\n",
       "      <td>22889</td>\n",
       "    </tr>\n",
       "  </tbody>\n",
       "</table>\n",
       "<p>125 rows × 1 columns</p>\n",
       "</div>"
      ],
      "text/plain": [
       "           0\n",
       "378    17245\n",
       "484    32767\n",
       "528    32767\n",
       "651    17918\n",
       "827    19103\n",
       "...      ...\n",
       "25426  21827\n",
       "25431  18804\n",
       "25796  21827\n",
       "25801  18804\n",
       "25876  22889\n",
       "\n",
       "[125 rows x 1 columns]"
      ]
     },
     "execution_count": 5,
     "metadata": {},
     "output_type": "execute_result"
    }
   ],
   "source": [
    "len(lens[lens[0] > 16000])\n",
    "lens[lens[0] > 16000]"
   ]
  },
  {
   "cell_type": "code",
   "execution_count": 6,
   "metadata": {},
   "outputs": [
    {
     "name": "stdout",
     "output_type": "stream",
     "text": [
      "32767\n"
     ]
    }
   ],
   "source": [
    "print(lens[0][528])\n"
   ]
  },
  {
   "cell_type": "code",
   "execution_count": 7,
   "metadata": {},
   "outputs": [
    {
     "data": {
      "text/plain": [
       "0    [' Images in Figure 8 seem to show some repeat...\n",
       "1    [' This is a totally unscientific piece (I can...\n",
       "2    [' Figs 2c and 5b,g.  ![file]   The turquoise ...\n",
       "3    [' \\\\\\\\ Figure 3. Morphology of MCF-7 cell in ...\n",
       "4    [' This paper is one of a set of 121 papers th...\n",
       "Name: rawcommentstext, dtype: object"
      ]
     },
     "execution_count": 7,
     "metadata": {},
     "output_type": "execute_result"
    }
   ],
   "source": [
    "reviews.head()"
   ]
  },
  {
   "cell_type": "code",
   "execution_count": 8,
   "metadata": {},
   "outputs": [
    {
     "data": {
      "text/plain": [
       "\"[' \\\\\\\\\\\\\\\\ Objective: To evaluate physical attractiveness in women with and without endometriosis.\\\\\\\\\\\\\\\\   This paper is clear proof that sexism, racism, and **sheer stupidity** are alive and well in science. It s amazing their IRB didn t stop it; I wonder how this was actually approved--I doubt there was any serious oversight of this by their IRB or it never would have been published. So it s unethical *and* immoral. And the most egregious part of their work uses 4 people to judge patient \\\\\\\\\\\\\\\\ attractiveness\\\\\\\\\\\\\\\\ , so even if it weren t already unethical and immoral, it s also methodologically flawed. , ', ' http:  fertstertforum.com vercellinip-attractiveness-women-rectovaginal-endometriosis ?fbclid=IwAR1xCYyqPtebFo36huQ_t7rccqr8mWTG_BvghfpdwZQymMOHwYl2GjyHM_Y , ', ' A comment from 2012 by Dr Jen Gunter  A study rating female attractiveness: the journal Fertility and Sterility publishes misogyny   https:  drjengunter.com 2012 09 20 a-study-rating-female-attractiveness-the-journal-fertility-and-sterility-publishes-misogyny  , ', ' A response from authors here (year?) https:  endometriosis.org news research attractiveness-of-women-with-endometriosis  , ', ' Our study should be contextualized, with the understanding that studying human attractiveness cannot be labelled per se as sexism. Human attractiveness has been assessed for many years in both females and males and in different areas of science. The interest in this topic is not merely speculative. The study of attractiveness can expand the knowledge of physiological and pathological conditions and may open new avenues of fruitful research and, possibly, prevention. Moreover, half of the co-authors of the article and half of the evaluators were women.  Attractiveness is an area of growing scientific investigation, especially because of the genetic and endocrine mechanisms underpinning specific phenotypic characteristics. Searching PubMed for \\\\\\\\\\\\\\\\u201cattractiveness\\\\\\\\\\\\\\\\u201d plus \\\\\\\\\\\\\\\\u201chuman\\\\\\\\\\\\\\\\u201d identifies almost 4,000 articles. In particular, the combination of \\\\\\\\\\\\\\\\u201cfacial attractiveness\\\\\\\\\\\\\\\\u201d plus \\\\\\\\\\\\\\\\u201chuman\\\\\\\\\\\\\\\\u201d retrieves 1,215 articles.   Some anthropometric measures and body composition indicators have been shown to be associated with endometriosis, and specifically with the most severe forms of the disease (Backonja et al., 2017).   Endometriosis is associated with lean body size and tall height (Farland et al., 2017), and may correlate with a peripheral body fat distribution (Shah et al. 2013). According to Hediger et al. (2005), the observation \\\\\\\\\\\\\\\\u201cthat women diagnosed with endometriosis may have a consistently lean physique during adolescence and young adulthood lends support to the suggestion of there being an in utero or early childhood origin for endometriosis\\\\\\\\\\\\\\\\u201d.  In women with endometriosis, independent groups have observed a higher frequency of several characteristics that appear to be genetically determined. As an example, associations between red hair, pale skin, naevi, and freckles has been repeatedly demonstrated (Woodworth et al., 1995; Missmer et al., 2006; Kvaskoff M et al., 2009 and 2014; Somigliana et al., 2010). The association between blue eye colour and deep, infiltrating endometriosis is also very strong (Vercellini et al., 2014).  The anogenital distance (AGD), an indicator of intra-uterine estrogenic androgenic exposure, is shorter in women with endometriosis compared with women without endometriosis, to the point that some authors suggest this measure as a diagnostic tool specifically in women with deep, infiltrating endometriosis (DIE) and endometriomas (Mendiola et al., 2016; S\\\\\\\\\\\\\\\\u00e1nchez-Ferrer ML et al., 2017 and 2019).   In the words of the authors \\\\\\\\\\\\\\\\u201cThe AGD is known to be a reliable biomarker of the prenatal hormonal environment, and a strong association has been recently reported between shorter AGD and the presence of endometriomas, DIE, or both, in women\\\\\\\\\\\\\\\\u201d (S\\\\\\\\\\\\\\\\u00e1nchez-Ferrer ML et al., 2017). The authors suggest that endometriosis is associated with higher estrogen exposure during intra-uterine life.  Also, female facial attractiveness has been found to be positively associated with low testosterone-to-oestradiol ratio and low testosterone (Probst F et al. 2016). According to the authors, an attractive female face is shaped by interacting effects of testosterone and oestradiol.  Of particular interest here, Hu et al., in their recent publication in PLOS Genetics titled \\\\\\\\\\\\\\\\u201cGenome-wide association study reveals sex-specific genetic architecture of facial attractiveness\\\\\\\\\\\\\\\\u201d, identified two genome-wide significant loci, highlighted a handful of candidate genes, and demonstrated enrichment for heritability in human tissues involved in reproduction and hormone synthesis\\\\\\\\\\\\\\\\u201d  .  The authors write \\\\\\\\\\\\\\\\u201cwe conducted a GWAS to identify DNA variants associated with human facial attractiveness. We identified two genome-wide significant loci on 10q11.22 and 2p22.2 and highlighted several genes via eQTL analysis and transcriptome-wide association analysis. Human tissues involved in reproduction and hormone production were implicated in heritability enrichment analysis. Additionally, we identified evidence for shared genetics between attractiveness and other complex traits. Top SNPs for attractiveness were enriched for associations with dermatological traits related to skin and hair pigmentation. Via a genome-wide genetic covariance estimation approach, we identified strong evidence for shared genetic architecture of facial attractiveness with BMI [\\\\\\\\\\\\\\\\u2026] These results not only provided fundamental new insights into the genetic basis of facial attractiveness, but also revealed the complex relationship between attractiveness and a variety of human traits.\\\\\\\\\\\\\\\\u201d  Interestingly, female attractiveness traits were negatively correlated with BMI traits and positively correlated with some dermatological traits. According to White and Puts (2019) \\\\\\\\\\\\\\\\u201cthe candidate genes identified for both significant results and nearly all suggestive results have entries in GWAS Catalog for traits related to attractiveness, including skin pigmentation and melanoma, body mass index (BMI), and the BMI related phenotypes of height and waist\\\\\\\\\\\\\\\\u2013hip ratio\\\\\\\\\\\\\\\\u201d.  Thus, it appears that an underlying specific genetic architecture mediates attractiveness. Moreover, facial attractiveness seems related to some phenotypic characteristics that have been observed more frequently in women with endometriosis. Therefore, facial attractiveness might be associated with a genetically influenced intra-uterine estrogenic androgenic balance that may determine, with various pathogenic mechanisms, the future development of endometriosis, especially in its more invasive forms.  If, in addition to genetic predisposition, female facial attractiveness is partly influenced by an intrauterine estrogenic androgenic imbalance, as it seems to be the case with deep infiltrating endometriosis (Mendiola et al., 2016; S\\\\\\\\\\\\\\\\u00e1nchez-Ferrer ML et al. 2017 and 2019), prenatal exposure to endocrine disruptors should be studied more in-depth (Wei et al., 2016), as this might open the possibility of limiting the risk of the most severe disease forms. Indeed, an association between exposure to polychlorinated dibenzodioxins and dibenzofurans, polychlorinated biphenyls, or organochlorine pesticides and deep infiltrating endometriosis has been repeatedly observed (Mart\\\\\\\\\\\\\\\\u00ednez-Zamora et al., 2015; Ploteau S et al., 2016 and 2017).  Data available at the moment of planning our study already suggested the hypothesis of an interaction between genetic and endocrine factors, and the evidence that emerged in recent years seems to further confirm the rationale behind our study.  Given this scenario, some aspects regarding our study should be described in detail to avoid misunderstanding.   First, participants were aware that the study was aimed at investigating several clinical data, including past medical and sexual history, several phenotypic variables, and also attractiveness. Institutional review board approval was obtained and the women signed an informed consent form.   Second, the visit included three separate phases. Initially, the women were requested to read and fill in the questionnaires. This is part of the regular activity of our service, as all patients referred to our centre systematically complete several forms aimed at defining their overall health, type and severity of symptoms, psychological status, sexual functioning, and health-related quality of life.   When the patients returned the questionnaires, body measurements were obtained in a dedicated room exclusively by two female investigators. Indeed, as indicated in the article, the observers that rated face attractiveness during the final part of the visit, were not those who obtained body measurements.   Third, when face attractiveness was observed, the participants had already finished the physical examination, were dressed, talking with the physician, and ready to leave the outpatient clinic. The observers independently encountered the patients only at this phase. In other words, the observers that rated attractiveness could only look at the patients as in any other public situation and had no role in any other part of the visit. Maintaining that the same physicians performed a physical examination and then rated attractiveness is false and, again, this is clearly indicated in the published article. Observing facial attractiveness did not imply any particular action. Of note, two of the observers were female doctors.  We are astonished by the controversies arising several years after our study was published, particularly considering that the evidence that followed seems to be in line with our original hypothesis.   We do not understand also the accuse of racism. Is this because only women of Caucasian ethnicity were recruited? Ethnicity is fundamental when investigating the hypothetical genetic basis of diseases, and the preplanned inclusion of women of exclusively Caucasian origin was decided to prevent an obvious genetic bias that would have confounded the findings.  Finally, except for the assessment of facial attractiveness, there was no deviation from our standard clinical management. Nothing different was done with respect to our routine practice. Exclusively women with an already discussed and agreed surgical indication were considered. Reading that we performed surgery after the outpatient clinic evaluation to verify whether women had endometriosis or not is extremely offensive and defamatory.  In addition, our group is well known in the world for extreme commitment in putting women with endometriosis at the centre of all medical decisions. We are devoted to patient-centred medicine, and shared medical decision-making is the hallmark of our clinical and scientific activity. A quick look at our scientific production through PubMed would easily reveal our efforts toward setting-up the safest, clinically effective, and cost-effective treatment strategies (Vercellini et al., 2018a and 2018b). We are among the few who continue to fight against financial conflicts of interest and undue industry influence in gynecology in general, and in the endometriosis area in particular.  We have and always have had the maximum respect of our patients, and our group published the results of the first participatory research initiative in the endometriosis field together with a large patient association (Vercellini et al., 2018c).  We are appalled by the description made by some regarding our role as investigators. Of relevance, some of the authors of this study are involved in clinical and research activity against violence toward women (Barbara et al., 2017a; 2017b; 2017c), against genital cosmetic surgery (Barbara et al., 2015), and against female genital mutilation (Buggio et al., 2019). We are all very well aware of what it means living with endometriosis, and one of the co-authors lost a kidney many years ago owing to a severe form of endometriosis. How could we even imagine to disrespect the women we are trying to help to the maximum of our possibilities?  We believe that our findings are in line with a vast body of evidence demonstrating the role of genetics and probably of the intrauterine hormonal environment (findings that have opened new promising avenues of research), that the rationale behind our study was legitimate and followed a long-lasting  line of investigation (Somigliana et al., 2010; Somigliana et al., 2011; Vigan\\\\\\\\\\\\\\\\u00f2 et al., 2012; Vercellini et al., 2013; Vercellini et al., 2014), that we did not offend our patients, and that our study has been substantially misunderstood and misinterpreted.    Paolo Vercellini\\\\\\\\\\\\\\\\t\\\\\\\\\\\\\\\\t\\\\\\\\\\\\\\\\tLaura Buggio  Edgardo Somigliana\\\\\\\\\\\\\\\\t\\\\\\\\\\\\\\\\tGiussy Barbara  Paola Vigan\\\\\\\\\\\\\\\\u00f2\\\\\\\\\\\\\\\\t\\\\\\\\\\\\\\\\t\\\\\\\\\\\\\\\\t\\\\\\\\\\\\\\\\tLuigi Fedele     REFERENCES   Backonja U, Hediger ML, Chen Z, Lauver DR, Sun L, Peterson CM, Buck Louis GM. Beyond Body Mass Index: Using Anthropometric Measures and Body Composition Indicators to Assess Odds of an Endometriosis Diagnosis. J Womens Health. 2017;26:941-950.   Barbara G, Facchin F, Meschia M, Vercellini P. \\\\\\\\\\\\\\\\ The first cut is the deepest\\\\\\\\\\\\\\\\ : a psychological, sexological and gynecological perspective on female genital cosmetic surgery. Acta Obstet Gynecol Scand. 2015;94:915-20.  Barbara G, Collini F, Cattaneo C, Facchin F, Vercellini P, Chiappa L, Kustermann A. Sexual Violence Against Adolescent Girls: Labeling It to Avoid Normalization. J Womens Health. 2017a;26:1146-1149.   Barbara G, Collini F, Cattaneo C, Marasciuolo L, Chiappa L, Fedele L, Kustermann A. Sexual violence and unwanted pregnancies in migrant women. Lancet Glob Health. 2017b;5:e396-e397.   Barbara G, Collini F, Cattaneo C, Facchin F, Vercellini P, Kustermann A. Sexual violence against adolescent girls: the need for shared multidisciplinary prevention strategies. BJOG. 2017c;124:434.  Buggio L, Facchin F, Chiappa L, Barbara G, Brambilla M, Vercellini P. Psychosexual Consequences of Female Genital Mutilation and the Impact of Reconstructive Surgery: A Narrative Review. Health Equity. 2019;3:36-46.  Farland LV, Missmer SA, Bijon A, Gusto G, Gelot A, Clavel-Chapelon F, Mesrine S, Boutron-Ruault MC, Kvaskoff M. Associations among body size across the life course, adult height and endometriosis. Hum Reprod. 2017;32:1732-1742.   Hediger ML, Hartnett HJ, Louis GM. Association of endometriosis with body size and figure. Fertil Steril. 2005;84:1366-74.  Hu B, Shen N, Li JJ, Kang H, Hong J, Fletcher J, Greenberg J, Mailick MR, Lu Q. Genome-wide association study reveals sex-specific genetic architecture of facial attractiveness. PLoS Genet. 2019;15:e1007973.  Kvaskoff M, Han J, Qureshi AA, Missmer SA. Pigmentary traits, family history of melanoma and the risk of endometriosis: a cohort study of US women. Int J Epidemiol. 2014;43:255-63.  Kvaskoff M, Mesrine S, Clavel-Chapelon F, Boutron-Ruault MC. Endometriosis risk in relation to naevi, freckles and skin sensitivity to sun exposure: the French E3N cohort. Int J Epidemiol. 2009;38:1143-53.   Mart\\\\\\\\\\\\\\\\u00ednez-Zamora MA, Mattioli L, Parera J, Abad E, Coloma JL, van Babel B, Galceran MT, Balasch J, Carmona F. Increased levels of dioxin-like substances in adipose tissue in patients with deep infiltrating endometriosis. Hum Reprod. 2015;30:1059-68.  Mendiola J, S\\\\\\\\\\\\\\\\u00e1nchez-Ferrer ML, Jim\\\\\\\\\\\\\\\\u00e9nez-Vel\\\\\\\\\\\\\\\\u00e1zquez R, C\\\\\\\\\\\\\\\\u00e1novas-L\\\\\\\\\\\\\\\\u00f3pez L, Hern\\\\\\\\\\\\\\\\u00e1ndez-Pe\\\\\\\\\\\\\\\\u00f1alver AI, Corbal\\\\\\\\\\\\\\\\u00e1n-Biyang S, Carmona-Barnosi A, Prieto-S\\\\\\\\\\\\\\\\u00e1nchez MT, Nieto A, Torres-Cantero AM. Endometriomas and deep infiltrating endometriosis in adulthood are strongly associated with anogenital distance, a biomarker for prenatal hormonal environment. Hum Reprod. 2016;31:2377-83.   Missmer SA, Spiegelman D, Hankinson SE, Malspeis S, Barbieri RL, Hunter DJ. Natural hair color and the incidence of endometriosis. Fertil Steril. 2006;85:866-70.   Ploteau S, Antignac JP, Volteau C, Marchand P, V\\\\\\\\\\\\\\\\u00e9nisseau A, Vacher V, Le Bizec B. Distribution of persistent organic pollutants in serum, omental, and parietal adipose tissue of French women with deep infiltrating endometriosis and circulating versus stored ratio as new marker of exposure. Environ Int. 2016;97:125-136.  Ploteau S, Cano-Sancho G, Volteau C, Legrand A, V\\\\\\\\\\\\\\\\u00e9nisseau A, Vacher V, Marchand P, Le Bizec B, Antignac JP. Associations between internal exposure levels of persistent organic pollutants in adipose tissue and deep infiltrating endometriosis with or without concurrent ovarian endometrioma. Environ Int. 2017;108:195-203.  Probst F, Bobst C, Lobmaier JS.Testosterone-to-oestradiol ratio is associated with female facial attractiveness. Q J Exp Psychol. 2016;69:89-99.  Shah DK, Correia KF, Vitonis AF, Missmer SA. Body size and endometriosis: results from 20 years of follow-up within the Nurses  Health Study II prospective cohort. Hum Reprod. 2013;28:1783-92  S\\\\\\\\\\\\\\\\u00e1nchez-Ferrer ML, Mendiola J, Jim\\\\\\\\\\\\\\\\u00e9nez-Vel\\\\\\\\\\\\\\\\u00e1zquez R, C\\\\\\\\\\\\\\\\u00e1novas-L\\\\\\\\\\\\\\\\u00f3pez L, Corbal\\\\\\\\\\\\\\\\u00e1n-Biyang S, Hern\\\\\\\\\\\\\\\\u00e1ndez-Pe\\\\\\\\\\\\\\\\u00f1alver AI, Carmona-Barnosi A, Maldonado-C\\\\\\\\\\\\\\\\u00e1rceles AB, Prieto-S\\\\\\\\\\\\\\\\u00e1nchez MT, Machado-Linde F, Nieto A, Torres-Cantero AM. Investigation of anogenital distance as a diagnostic tool in endometriosis. Reprod Biomed Online. 2017;34:375-382.   S\\\\\\\\\\\\\\\\u00e1nchez-Ferrer ML, Jim\\\\\\\\\\\\\\\\u00e9nez-Vel\\\\\\\\\\\\\\\\u00e1zquez R, Mendiola J, Prieto-S\\\\\\\\\\\\\\\\u00e1nchez MT, C\\\\\\\\\\\\\\\\u00e1novas-L\\\\\\\\\\\\\\\\u00f3pez L, Carmona-Barnosi A, Corbal\\\\\\\\\\\\\\\\u00e1n-Biyang S, Hern\\\\\\\\\\\\\\\\u00e1ndez-Pe\\\\\\\\\\\\\\\\u00f1alver AI, Adoamnei E, Nieto A, Torres-Cantero AM. Accuracy of anogenital distance and anti-M\\\\\\\\\\\\\\\\u00fcllerian hormone in the diagnosis of endometriosis without surgery. Int J Gynaecol Obstet. 2019;144:90-96.   Somigliana E, Vigan\\\\\\\\\\\\\\\\u00f2 P, Abbiati A, Gentilini D, Parazzini F, Benaglia L, Vercellini P, Fedele L.  Here comes the sun : pigmentary traits and sun habits in women with endometriosis. Hum Reprod. 2010;25:728-33.  Somigliana E, Vigano P, Abbiati A, Paffoni A, Benaglia L, Vercellini P, Fedele L. Perinatal environment and endometriosis. Gynecol Obstet Invest. 2011;72:135-40.  Vercellini P, Buggio L, Somigliana E, Barbara G, Vigan\\\\\\\\\\\\\\\\u00f2 P, Fedele L. Attractiveness of women with rectovaginal endometriosis: a case-control study. Fertil Steril. 201399:212-8.   Vercellini P, Buggio L, Somigliana E, Dridi D, Marchese MA, Vigan\\\\\\\\\\\\\\\\u00f2 P.  Behind blue eyes \\\\\\\\\\\\\\\\u2020: the association between eye colour and deep infiltrating endometriosis.  Hum Reprod. 2014 10;29:2171-5.  Vercellini P, Facchin F, Buggio L, Barbara G, Berlanda N, Frattaruolo MP, Somigliana E. Management of Endometriosis: Toward Value-Based, Cost-Effective, Affordable Care. J Obstet Gynaecol Can. 2018a;40:726-749.e10.  Vercellini P, Frattaruolo MP, Buggio L. Toward minimally disruptive management of symptomatic endometriosis: reducing low-value care and the burden of treatment. Expert Rev Pharmacoecon Outcomes Res. 2018b;1:1-4.  Vercellini P, Donati A, Ottolini F, Frassineti A, Fiorini J, Nebuloni V, Frattaruolo MP, Roberto A, Mosconi P, Somigliana E. A stepped-care approach to symptomatic endometriosis management: a participatory research initiative. Fertil Steril. 2018c;109:1086-1096.  Vigan\\\\\\\\\\\\\\\\u00f2 P, Somigliana E, Panina P, Rabellotti E, Vercellini P, Candiani M. Principles of phenomics in endometriosis. Hum Reprod Update. 2012;18:248-59.   White JD, Puts DA. Genes influence facial attractiveness through intricate biological relationships. PLoS Genet. 2019;15(4):e1008030.  Wei M, Chen X, Zhao Y, Cao B, Zhao W. Effects of Prenatal Environmental Exposures on the Development of Endometriosis in Female Offspring. Reprod Sci. 2016 Sep;23(9):1129-38.  Woodworth SH, Singh M, Yussman MA, Sanfilippo JS, Cook CL, Lincoln SR. A prospective study on the association between red hair color and endometriosis in infertile patients. Fertil Steril. 1995;64:651-2. , ', ' A debate on this article was previously available at http:  fertstertforum.com vercellinip-attractiveness-women-rectovaginal-endometriosis . In the last few months, the journal discussion site moved to https:  www.fertstertdialog.com posts 8288-attractiveness-of-women-with-rectovaginal-endometriosis-a-case-control-study and those earlier comments were lost.  Via the Internet Archive s Wayback Machine  , I retrieved the Disqus comments below. The formatting has been adjusted for clarity; the dates of the posts were not given.  ----  alawson@nmff.org The Executive Committee of the Mental Health Professional Group of ASRM would like to make you aware of our grave concerns regarding the publication of the research article \\\\\\\\\\\\\\\\u201cAttractiveness of women with rectovaginal endometriosis: a case control study\\\\\\\\\\\\\\\\u201d in the most recent issue of Fertility and Sterility.  Unfortunately, there are multiple problems with the study, all of which should have resulted in the manuscript being promptly rejected for publication. We highlight several of our concerns below.  1) The study is inherently deceptive in that female participants were not informed that they were being rated according to how attractive pretty or unattractive ugly they were. Given the large literature on women\\\\\\\\\\\\\\\\u2019s body image concerns, it is highly likely that many women would have refused to participate (rather than behaved seductively) in the study had they known that such ratings were to occur.  2) The ratings of women\\\\\\\\\\\\\\\\u2019s attractiveness were in no way rigorous, were not operationally defined, and were completely subjective. It is also problematic that the raters were not apparently trained for consistency in rating attractiveness and raters were not consistent throughout the study.  3) As the authors note on this forum, the study is not clinically useful. Physicians are not and would not be instructed to evaluate all future attractive female patients for rectovaginal endometriosis or to assume that ugly women carried some other diagnosis.  4) The premise of the study is highly sexist in nature. Objectifying and ogling women\\\\\\\\\\\\\\\\u2019s bodies in the name of science is shameful.  As scientists, we are concerned about the clear failure of the peer review process. We feel that the readers of Fertility and Sterility deserve both an explanation about how such a gross failure occurred as well as assurances of how these types of errors will be prevented in the future. As women, we are offended that such a study was conducted and published. The objectification of women\\\\\\\\\\\\\\\\u2019s bodies and beauty have clearly been shown in the literature to contribute to anxiety, depression, and eating disorders. That Fertility and Sterility and therefore, the American Society of Reproductive Medicine, condones such behavior and non-rigorous or useful research by the publication of this manuscript calls into question the integrity of the publication and the peer review process. We believe that this manuscript should be retracted from publication with an apology and assurances that such errors in judgment will be guarded against in the future.  The ASRM\\\\\\\\\\\\\\\\u2019s Executive Committee of the Mental Health Professional Group Mary Riddle PhD, Claudia Pascale PhD, Piave Lake MD, and Angela Lawson PhD  ----  Craig Niederberger We appreciate the interest in this article expressed by The Executive Committee of the Mental Health Professional Group of the American Society for Reproductive Medicine and would like to emphasize that statements and opinions expressed in articles and communications in the journal are those of the authors and not necessarily those of the the American Society for Reproductive Medicine or any organizations endorsing Fertility and Sterility. This article was subjected to the rigorous peer review process as are all submissions to Fertility and Sterility including review of the consent of the subjects and Institutional Review Board approval. Based on the opinions of the reviewers, it was our editorial judgment that this is a legitimate work of science and worthy of inclusion. We appreciate the discussion and have learned much from it, as we hope have the other readers of the journal.  Craig Niederberger and Antonio Pellicer Editors in Chief, Fertility and Sterility  ----  Paola Vigan\\\\\\\\\\\\\\\\u00f2, PhD To the Executive Committee of the ASRM\\\\\\\\\\\\\\\\u2019s Mental Health Professional Group, Mary Riddle PhD, Claudia Pascale PhD, Piave Lake MD, and Angela Lawson PhD  Dear Dr Riddle, Dr Pascale, Dr Lake and Dr Lawson,  As a woman, and thus not only as a co-author of the paper under discussion (1), I acknowledge with overwhelming sorrow, but also some perplexity, your negative comments concerning both the methodological aspects and the legitimacy itself of the assessment of attractiveness of women with and without endometriosis.  Honestly, as a group, we did not think that our paper could have been received as an offense to women, and the possibility of conducting a highly sexist study was absolutely out of our perspective. Indeed, full respect of all women in general and of women with endometriosis in particular has always been our priority. We have fought for years to put the patients with endometriosis at the center of medical decisions and of the socio-political awareness (2) and I have been personally among the very few scientists on the side of the women\\\\\\\\\\\\\\\\u2019s associations sustaining the disease recognition as a social disease.  With regard to methodology, I cannot exclude that your listed limits may have had an impact on the results. However, we have already explained and clarified in detail all these aspects both in the manuscript itself and in this online forum. With regard to the overall ethical aspects of the investigation and the accusation of highly sexist conduct, I would like to make some further considerations.  According to our vision, the ethical legitimacy of our investigation was based on the observation that face and human attractiveness in both females and males has been the objective of vast research in several fields of medicine for a long time. In order to further clarify our line of thinking, I refer to another well known example of strict interaction between genetic endocrine factors and expression of a particular phenotype, i.e., the complete androgen insensitivity syndrome (CAIS). The evidence for an attractive feminine phenotype of some subjects with CAIS is anecdotal, but apparently well radicated in gynecological knowledge. As an example, one of the most authoritative textbooks of gynecology reported \\\\\\\\\\\\\\\\u2018[\\\\\\\\\\\\\\\\u2026] is a phenotypic female who is usually somewhat tall, has excellent breast development [\\\\\\\\\\\\\\\\u2026]. After puberty, the general habitus and distribution of body fat is entirely female in proportion and many of these women are strikingly attractive\\\\\\\\\\\\\\\\u2019 (3). Similar comments can be found in other gynecological textbooks (4). Also patients themselves seem to be aware of this phenotype, which is sometimes felt as a sort of compensation (\\\\\\\\\\\\\\\\u2018She nevertheless, was acutely aware of her physical attractiveness and was recorded as saying: \\\\\\\\\\\\\\\\u201cAt least I can take comfort in my femininity\\\\\\\\\\\\\\\\u201d\\\\\\\\\\\\\\\\u2019) (5).  On a scientific basis, there are evident parallelisms between these two conditions, especially considering the novel genetic findings underlying endometriosis risk (6). Mutations or polymorphisms of genes critical for the fetal development and variations in the intrauterine endocrine milieu are likely to determine different phenotypes in the adult age (7). Indeed, the potential role of intrauterine life on endometriosis development has recently been suggested based on a series of observations indicating a modification of the risk among women exposed to specific factors in utero (8). Finally, evidence to suggest antiandrogenic or estrogenic effects for certain environmental toxins is an added factor which merits further consideration for the etiology and for the variable expression of the involved genes.  As established concepts on feminine phenotype and attractiveness were already present in the literature, I and we all as a group did not expect that our investigation could have ignited such a great resentment and could have been received as a grave gender offence. We certainly did not imagine that reporting an excess of attractive women among the patients with a particular endometriotic lesion could have increased the risk of anxiety, depression, and eating disorders or that measuring physical variables could be interpreted as \\\\\\\\\\\\\\\\u201cobjectifying women\\\\\\\\\\\\\\\\u2019s bodies\\\\\\\\\\\\\\\\u201d. In addition, and for sake of clarity, the raters encountered the women exclusively when they were completely dressed. Therefore, facial characteristics were the main factors influencing the determination of the assessment of overall attractiveness.  Our study has been a long, strenuous, alternative temptative of unravelling a potential factor in the pathogenesis of a particularly distressing form of endometriosis, nothing else than this. If something different was happening, I, as a woman affected by deep endometriosis, should have realized it.  Paola Vigan\\\\\\\\\\\\\\\\u00f2, Ph.D. Obstetrics and Gynecology Unit, San Raffaele Scientific Institute, Milano, Italy  1. Vercellini P, Buggio L, Somigliana E, Barbara G, Vigan\\\\\\\\\\\\\\\\u00f2 P, Fedele L. Attractiveness of women with rectovaginal endometriosis: a case-control study. Fertil Steril 2013;99:212-8. 2. Bianconi L, Hummelshoj L, Coccia ME, Vigano P, Vittori G, Veit J, Music R, Tomassini A, D\\\\\\\\\\\\\\\\u2019Hooghe T. Recognizing endometriosis as a social disease: the European Union-encouraged Italian Senate approach. Fertil Steril. 2007;88(5):1285-7. 3. Jones HW, Colston Wentz A, Burnet LS. Chapter 6. Congenital anomalies and intersexuality. In Novak\\\\\\\\\\\\\\\\u2019s Textbook of Gynecology, Baltimore, Williams   Wilkins, 11th ed, 1981:163-164. 4. Parsons L, Sommers SC. Chapter 10. Delayed development. In Gynecology, Philadelphia, W.B.Saunders Company, 2nd ed., 1978:134-169. 5. Conn J, Gillam L, Conway GS. Revealing the diagnosis of androgen insensitivity syndrome in adulthood. BMJ. 2005;331(7517):628-30. 6. Painter JN, Anderson CA, Nyholt DR, Macgregor S, Lin J, Lee SH, Lambert A, Zhao ZZ, Roseman F, Guo Q, Gordon SD, Wallace L, Henders AK, Visscher PM, Kraft P, Martin NG, Morris AP, Treloar SA, Kennedy SH, Missmer SA, Montgomery GW, Zondervan KT. Genome-wide association study identifies a locus at 7p15.2 associated with endometriosis. Nat Genet. 2011 ;43(1):51-4. 7. Evans BA, Hughes IA, Bevan CL, Patterson MN, Gregory JW. Phenotypic diversity in siblings with partial androgen insensitivity syndrome. Arch Dis Child. 1997; 76(6):529-31. 8. Vigan\\\\\\\\\\\\\\\\u00f2 P, Somigliana E, Panina P, Rabellotti E, Vercellini P, Candiani M. Principles of phenomics in endometriosis. Hum Reprod Update. 2012;18(3):248-59.  ----  alawson@nmff.org I would like to thank Dr. Niederberger and Dr. Pellicer for their reply. As previously stated in the post from the MHPG, we understand that the article made it through the peer review process. We feel peer review failed as this article should not have been published. We know that ours is not the only voice in the likely loud chorus that has expressed this opinion.  I would also like to personally thank Dr. Vigano for her reply and I would like to respond to her statements. First, I am certain that you did not think this manuscript was sexist, or I would hope that you would not have conducted the study nor attempted to have it published. I am glad that your group has fought on behalf of your patients over the years. I also am aware that previous research and or anecdotal information has been published which examines the interaction between genetic endocrine factors and particular phenotypes. However, the simple fact that someone else has published an anecdote (or even rigorous research) on such subjects does not mean that those anecdotes are free of sexism nor does it mean that any later published study on such a subject is automatically exempted from being sexist because someone else published it first.  Further, you misrepresented the wording of the original post regarding the risks of mental health disorders. The vast literature on women\\\\\\\\\\\\\\\\u2019s body image issues and psychological distress would suggest that additional experiences of sexism (such as I believe is evidenced in your study) contribute to a larger culture of sexism and women\\\\\\\\\\\\\\\\u2019s body image concerns and therefore increase the risk of psychological distress and disorder. Further, as described in your study, you did not merely measure physical variables. Had you only exami\""
      ]
     },
     "execution_count": 8,
     "metadata": {},
     "output_type": "execute_result"
    }
   ],
   "source": [
    "reviews[528]"
   ]
  }
 ],
 "metadata": {
  "kernelspec": {
   "display_name": "Python 3",
   "language": "python",
   "name": "python3"
  },
  "language_info": {
   "codemirror_mode": {
    "name": "ipython",
    "version": 3
   },
   "file_extension": ".py",
   "mimetype": "text/x-python",
   "name": "python",
   "nbconvert_exporter": "python",
   "pygments_lexer": "ipython3",
   "version": "3.9.17"
  },
  "orig_nbformat": 4
 },
 "nbformat": 4,
 "nbformat_minor": 2
}
