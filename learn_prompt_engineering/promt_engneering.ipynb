{
 "cells": [
  {
   "cell_type": "code",
   "execution_count": 1,
   "metadata": {},
   "outputs": [],
   "source": [
    "import openai\n",
    "\n",
    "with open('openai.txt', 'r') as f:  \n",
    "    openai.api_key = f.readline\n",
    "\n",
    "def get_completion(prompt, model=\"gpt-3.5-turbo\"):\n",
    "    messages = [{\"role\": \"user\", \"content\": prompt}]\n",
    "    response = openai.ChatCompletion.create(\n",
    "        model=model,\n",
    "        messages=messages,\n",
    "        temperature=0, # this is the degree of randomness of the model's output\n",
    "    )\n",
    "    return response.choices[0].message[\"content\"]"
   ]
  },
  {
   "cell_type": "code",
   "execution_count": 2,
   "metadata": {},
   "outputs": [
    {
     "name": "stdout",
     "output_type": "stream",
     "text": [
      "要在HTML中嵌入视频，可以使用`<video>`标签。以下是一个简单的示例：\n",
      "\n",
      "```html\n",
      "<video width=\"320\" height=\"240\" controls>\n",
      "  <source src=\"video.mp4\" type=\"video/mp4\">\n",
      "  Your browser does not support the video tag.\n",
      "</video>\n",
      "```\n",
      "\n",
      "在上面的示例中，`<video>`标签用于创建一个视频播放器。`width`和`height`属性用于设置视频播放器的宽度和高度。`controls`属性用于显示视频播放器的控制条。\n",
      "\n",
      "在`<video>`标签内部，可以使用`<source>`标签指定视频文件的URL和类型。在上面的示例中，视频文件的URL是`video.mp4`，类型是`video/mp4`。如果浏览器不支持指定的视频类型，将会显示`Your browser does not support the video tag.`。\n",
      "\n",
      "除了`<source>`标签，还可以在`<video>`标签内部添加其他内容，例如替代文本、封面图像等。\n",
      "\n",
      "请注意，不同的浏览器对于支持的视频格式和功能有所不同，因此最好提供多个不同格式的视频文件，以便在不同的浏览器中都能正常播放。\n"
     ]
    }
   ],
   "source": [
    "prompt = f\"\"\"\n",
    "html如何内嵌视频？\n",
    "\"\"\"\n",
    "response = get_completion(prompt)\n",
    "print(response)"
   ]
  },
  {
   "cell_type": "code",
   "execution_count": 11,
   "metadata": {},
   "outputs": [
    {
     "name": "stdout",
     "output_type": "stream",
     "text": [
      "Infeasible refers to something that is not possible or practical to achieve or carry out. It suggests that a particular action, plan, or idea cannot be accomplished due to various constraints or limitations. It implies that the task or goal is unrealistic, unattainable, or impracticable given the current circumstances, resources, or conditions. Infeasible can be used to describe situations where the desired outcome is simply not achievable or where the effort required outweighs the potential benefits. It is often used in problem-solving or decision-making contexts to indicate that a proposed solution or course of action is not viable or feasible.\n"
     ]
    }
   ],
   "source": [
    "text = f\"\"\"\n",
    "Infeasible\n",
    "\"\"\"\n",
    "\n",
    "prompt = f\"\"\"\n",
    "Try to explain following word or term:\n",
    "\n",
    "```\n",
    "{text}\n",
    "```\n",
    "\"\"\"\n",
    "response = get_completion(prompt)\n",
    "print(response)"
   ]
  },
  {
   "cell_type": "code",
   "execution_count": 9,
   "metadata": {},
   "outputs": [
    {
     "name": "stdout",
     "output_type": "stream",
     "text": [
      "Interdependence refers to the mutual reliance and interconnectedness between individuals, groups, or systems. It is the concept that highlights how different entities depend on each other for support, cooperation, and functioning. In an interdependent relationship, the actions or decisions of one entity have an impact on others, and vice versa. This term emphasizes the idea that no entity can exist or thrive in isolation, and that cooperation and collaboration are essential for the success and well-being of all parties involved. Interdependence can be observed in various contexts, such as in social relationships, economic systems, ecological systems, and international relations.\n"
     ]
    }
   ],
   "source": [
    "text = f\"\"\"\n",
    "interdependence \n",
    "\"\"\"\n",
    "\n",
    "prompt = f\"\"\"\n",
    "Try to explain following word or term:\n",
    "\n",
    "```\n",
    "{text}\n",
    "```\n",
    "\"\"\"\n",
    "response = get_completion(prompt)\n",
    "print(response)"
   ]
  }
 ],
 "metadata": {
  "kernelspec": {
   "display_name": "Python 3.9.17 ('repallm')",
   "language": "python",
   "name": "python3"
  },
  "language_info": {
   "codemirror_mode": {
    "name": "ipython",
    "version": 3
   },
   "file_extension": ".py",
   "mimetype": "text/x-python",
   "name": "python",
   "nbconvert_exporter": "python",
   "pygments_lexer": "ipython3",
   "version": "3.9.17"
  },
  "orig_nbformat": 4,
  "vscode": {
   "interpreter": {
    "hash": "f73f6e9c94e3395139431f6febaa6aaaeb2d78d8d813b037dcc33bb333b6baa4"
   }
  }
 },
 "nbformat": 4,
 "nbformat_minor": 2
}
